{
 "cells": [
  {
   "cell_type": "code",
   "execution_count": null,
   "id": "2d4b29c5-e4fc-4782-8edd-252b06d00b21",
   "metadata": {},
   "outputs": [],
   "source": [
    "import pandas as pd"
   ]
  },
  {
   "cell_type": "code",
   "execution_count": null,
   "id": "4ddd6681-7635-4bdc-9e58-0ab6ac1993c1",
   "metadata": {},
   "outputs": [],
   "source": [
    "data = pd.read_csv('mimic-iv/micu_Feature_Matrix_MIMIC_with_missing_values.csv')\n",
    "#age = pd.read_csv('age.csv')\n",
    "stayid_mapping = pd.read_pickle('mimic-iv/micu_mimic_negative_extras_id_mapping.pickle')\n",
    "stay_data = pd.read_pickle('mimic-iv/stay_data.pkl')\n",
    "\n",
    "mapping_dict = stayid_mapping.set_index('new_ID')['STAY_ID'].to_dict()\n",
    "data['orig_stay_id'] = data['STAY_ID'].apply(lambda x: mapping_dict[x] if x in mapping_dict else x)\n",
    "\n",
    "mapping_dict = stayid_mapping.set_index('new_ID')['Xi'].to_dict()\n",
    "data['Xi'] = data['STAY_ID'].apply(lambda x: mapping_dict[x] if x in mapping_dict else 0.0)\n",
    "\n",
    "data = data.merge(stay_data, how=\"left\", left_on=\"orig_stay_id\", right_on=\"stay_id\")\n",
    "\n",
    "data = data[data.cohort==1]\n",
    "data[\"los_icu\"] = data[\"los_icu\"] - data[\"Xi\"]\n",
    "\n",
    "data = data.drop(columns=[\"Unnamed: 0\", \"stay_id\", \"Xi\", \"cohort\"])\n",
    "\n",
    "data.to_pickle(\"mimic-iv/micu_Feature_Matrix_MIMIC_with_missing_values_extended.pkl\")"
   ]
  }
 ],
 "metadata": {
  "kernelspec": {
   "display_name": "",
   "name": ""
  },
  "language_info": {
   "name": ""
  }
 },
 "nbformat": 4,
 "nbformat_minor": 5
}
