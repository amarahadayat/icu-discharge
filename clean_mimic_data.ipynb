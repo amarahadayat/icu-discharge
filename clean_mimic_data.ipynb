{
 "cells": [
  {
   "cell_type": "markdown",
   "metadata": {},
   "source": [
    "# Script to clean the data extracted from MIMIC, and save clean version for future use.\n",
    "\n",
    "- Remove clearly anomalous values.\n",
    "- Sum GCS components, remove individual components, and introduce GCS_total.\n",
    "- Convert units for consisitency with GICU (UK data).\n",
    "- Introduce 'airway' variable (remove PEEP and AIRWAY)...this is a reduced version of current AIRWAY"
   ]
  },
  {
   "cell_type": "markdown",
   "metadata": {},
   "source": [
    "*Note: in the following mapping we exclude venous po2 and pco2, and diastolic bp."
   ]
  },
  {
   "cell_type": "code",
   "execution_count": 12,
   "metadata": {},
   "outputs": [],
   "source": [
    "variable_mapping = dict()\n",
    "variable_mapping['fio2'] = [226754, 227009, 227010,223835]\n",
    "variable_mapping['resp'] = [220210, 224688, 224689, 224690]\n",
    "variable_mapping['po2'] = [226770,227039,220224] \n",
    "variable_mapping['pco2'] = [220235,227036]  \n",
    "variable_mapping['temp'] = [223761, 223762, 224027] \n",
    "variable_mapping['hr'] = [220045]\n",
    "variable_mapping['bp'] = [220050, 220059, 220179, 224167, 225309, 227243, 226850, 226852]\n",
    "variable_mapping['k'] = [220640, 227464, 227442, 226772, 226535]\n",
    "variable_mapping['na'] = [220645, 226534, 226776]\n",
    "variable_mapping['hco3'] = [224826, 226759, 227443]\n",
    "variable_mapping['spo2'] = [220227, 220277, 226860,226861,226862,226863,226865,228232]\n",
    "variable_mapping['bun'] = [225624, 227000, 227001]\n",
    "variable_mapping['airway'] = [223838, 224832, 224391, 227810,223837, 224829]\n",
    "variable_mapping['gcs'] = [220739, 223900, 223901, 226755, 226756, 226757, 226758, 227011, 227012, 227013, 227014,228112]\n",
    "variable_mapping['creatinine'] = [220615, 226752, 227005]\n",
    "variable_mapping['pain'] = [223791, 227881]\n",
    "variable_mapping['urine'] = [227519, 227059]\n",
    "variable_mapping['haemoglobin'] = [220228]\n",
    "variable_mapping['peep'] = [220339, 224699, 224700]"
   ]
  },
  {
   "cell_type": "code",
   "execution_count": 13,
   "metadata": {},
   "outputs": [],
   "source": [
    "inv_var_mapping = {itemid: var for var, itemid_list in variable_mapping.items()\n",
    "                               for itemid in itemid_list}"
   ]
  },
  {
   "cell_type": "markdown",
   "metadata": {},
   "source": [
    "We will use the following dictionary of tuples to check for non-physical variable values:"
   ]
  },
  {
   "cell_type": "code",
   "execution_count": 10,
   "metadata": {},
   "outputs": [],
   "source": [
    "physical_limit = dict()\n",
    "physical_limit['creatinine'] = (0.0, 50.0)\n",
    "physical_limit['fio2'] = (0.0, 100.0)     \n",
    "physical_limit['resp'] = (0.0,100.0)      \n",
    "physical_limit['po2'] = (0.0,500.0)\n",
    "physical_limit['pco2'] = (0.0,500.0) \n",
    "physical_limit['temp'] = (80.0, 120.0)    \n",
    "physical_limit['hr'] = (0.0, 250.0)  \n",
    "physical_limit['bp'] = (0.0, 500.0) \n",
    "physical_limit['k'] = (0.0, 50.0)   \n",
    "physical_limit['na'] = (0.0, 500.0)  \n",
    "physical_limit['hco3'] = (0,100.0)    \n",
    "physical_limit['spo2'] = (10.0, 100.0) \n",
    "physical_limit['bun'] = (0.0,300.0)  \n",
    "physical_limit['gcs'] = (0.0, 16.0)  \n",
    "physical_limit['pain'] = (0.0, 10.0) \n",
    "physical_limit['peep'] = (0.0, 50.0)          \n",
    "physical_limit['haemoglobin'] = (0.0, 100.0)  \n",
    "physical_limit['airway'] = (None,None)"
   ]
  },
  {
   "cell_type": "code",
   "execution_count": 3,
   "metadata": {},
   "outputs": [],
   "source": [
    "def _remove_anomalies(data, physical_limit, variable_dict, verbose=False):\n",
    "    \n",
    "    ## define which ITEMIDs correspond to which variables.  \n",
    "    get_var = lambda it: [variable for variable,items in variable_dict.items() if it in items][0]\n",
    "    all_itemids = [item for sublist in variable_dict.values() for item in sublist]\n",
    "    var_id = {item: get_var(item) for item in all_itemids}\n",
    "    \n",
    "    data['remove_col'] = data.apply(lambda row: 1 if row['C.VALUENUM']>physical_limit[var_id[row['D.ITEMID']]][1] or row['C.VALUENUM']<physical_limit[var_id[row['D.ITEMID']]][0] else 0, axis=1)\n",
    "    \n",
    "    ## now filter the data frame:\n",
    "    print( \"%d rows to remove:\" %sum(data['remove_col']==1))\n",
    "    \n",
    "    if verbose:\n",
    "        print( \"For example:\")\n",
    "        removed = data[data['remove_col']==1].sample(0.001)\n",
    "        removed.print_rows(num_rows=20)\n",
    "    \n",
    "    data = data[data['remove_col']==0]\n",
    "    data = data.drop('remove_col', axis=1)\n",
    "    print(\"Anomalies removed.\")\n",
    "    return data"
   ]
  },
  {
   "cell_type": "markdown",
   "metadata": {},
   "source": [
    "#### Load data and remove anomalies: "
   ]
  },
  {
   "cell_type": "code",
   "execution_count": 6,
   "metadata": {},
   "outputs": [],
   "source": [
    "from google.cloud import bigquery\n",
    "# Construct a BigQuery client object.\n",
    "client = bigquery.Client()"
   ]
  },
  {
   "cell_type": "code",
   "execution_count": null,
   "metadata": {},
   "outputs": [],
   "source": [
    "from google.cloud import bigquery_storage_v1beta1"
   ]
  },
  {
   "cell_type": "code",
   "execution_count": 4,
   "metadata": {},
   "outputs": [],
   "source": [
    "import pandas as pd\n",
    "data2 = pd.read_pickle('final_interesting_chartevents.pickle')"
   ]
  },
  {
   "cell_type": "code",
   "execution_count": 7,
   "metadata": {},
   "outputs": [
    {
     "name": "stdout",
     "output_type": "stream",
     "text": [
      "10814977\n",
      "10807178\n"
     ]
    }
   ],
   "source": [
    "print(len(data2))\n",
    "data3 = data2[~data2['D.ITEMID'].isin([226062,226063,227516,228151])]\n",
    "print( len(data3))\n",
    "del data3"
   ]
  },
  {
   "cell_type": "code",
   "execution_count": 15,
   "metadata": {},
   "outputs": [],
   "source": [
    "data2 = data2[~data2['D.ITEMID'].isin([226062,226063,227516,228151])]\n"
   ]
  },
  {
   "cell_type": "code",
   "execution_count": 16,
   "metadata": {},
   "outputs": [
    {
     "name": "stderr",
     "output_type": "stream",
     "text": [
      "/usr/lib/python3/dist-packages/ipykernel_launcher.py:1: SettingWithCopyWarning: \n",
      "A value is trying to be set on a copy of a slice from a DataFrame.\n",
      "Try using .loc[row_indexer,col_indexer] = value instead\n",
      "\n",
      "See the caveats in the documentation: http://pandas.pydata.org/pandas-docs/stable/indexing.html#indexing-view-versus-copy\n",
      "  \"\"\"Entry point for launching an IPython kernel.\n"
     ]
    }
   ],
   "source": [
    "data2['var'] = data2['D.ITEMID'].apply(lambda row: inv_var_mapping[row]) "
   ]
  },
  {
   "cell_type": "code",
   "execution_count": 18,
   "metadata": {},
   "outputs": [
    {
     "data": {
      "text/plain": [
       "364402"
      ]
     },
     "execution_count": 18,
     "metadata": {},
     "output_type": "execute_result"
    }
   ],
   "source": [
    "len(data2[data2['var']=='airway'])"
   ]
  },
  {
   "cell_type": "code",
   "execution_count": 19,
   "metadata": {},
   "outputs": [
    {
     "name": "stderr",
     "output_type": "stream",
     "text": [
      "/usr/lib/python3/dist-packages/ipykernel_launcher.py:1: SettingWithCopyWarning: \n",
      "A value is trying to be set on a copy of a slice from a DataFrame.\n",
      "Try using .loc[row_indexer,col_indexer] = value instead\n",
      "\n",
      "See the caveats in the documentation: http://pandas.pydata.org/pandas-docs/stable/indexing.html#indexing-view-versus-copy\n",
      "  \"\"\"Entry point for launching an IPython kernel.\n",
      "/usr/lib/python3/dist-packages/ipykernel_launcher.py:2: SettingWithCopyWarning: \n",
      "A value is trying to be set on a copy of a slice from a DataFrame.\n",
      "Try using .loc[row_indexer,col_indexer] = value instead\n",
      "\n",
      "See the caveats in the documentation: http://pandas.pydata.org/pandas-docs/stable/indexing.html#indexing-view-versus-copy\n",
      "  \n"
     ]
    }
   ],
   "source": [
    "data2['lower_limit'] = data2['var'].apply(lambda row: physical_limit[row][0])\n",
    "data2['upper_limit'] = data2['var'].apply(lambda row: physical_limit[row][1])"
   ]
  },
  {
   "cell_type": "code",
   "execution_count": 9,
   "metadata": {},
   "outputs": [
    {
     "data": {
      "text/plain": [
       "(array([224829, 224391, 224027, 224832, 223838, 223837]), 589151)"
      ]
     },
     "execution_count": 9,
     "metadata": {},
     "output_type": "execute_result"
    }
   ],
   "source": [
    "data2[data2['C.VALUENUM'].isnull()]['D.ITEMID'].unique(), len(data2[data2['C.VALUENUM'].isnull()])"
   ]
  },
  {
   "cell_type": "code",
   "execution_count": 22,
   "metadata": {},
   "outputs": [
    {
     "data": {
      "text/plain": [
       "247235"
      ]
     },
     "execution_count": 22,
     "metadata": {},
     "output_type": "execute_result"
    }
   ],
   "source": [
    "data2 = data2[(data2['C.VALUENUM'].isnull() & (data2['var']!='airway')) \n",
    "            | (data2['C.VALUENUM'] < data2['lower_limit'])\n",
    "            | (data2['C.VALUENUM'] > data2['upper_limit']) ]"
   ]
  },
  {
   "cell_type": "markdown",
   "metadata": {},
   "source": [
    "We add column to data that says what type of variable it is (i.e. the variable name):"
   ]
  },
  {
   "cell_type": "code",
   "execution_count": 23,
   "metadata": {},
   "outputs": [],
   "source": [
    "data2 = data2.rename(columns={'var': 'VARIABLE'})"
   ]
  },
  {
   "cell_type": "code",
   "execution_count": 25,
   "metadata": {},
   "outputs": [],
   "source": [
    "data2.to_pickle('cleaning_anamoly.pickle')"
   ]
  },
  {
   "cell_type": "markdown",
   "metadata": {},
   "source": [
    "#### We now sum GCS components:  \n",
    "(And remove those that do not have all 3 cpts measured)"
   ]
  },
  {
   "cell_type": "code",
   "execution_count": 1,
   "metadata": {},
   "outputs": [],
   "source": [
    "import pandas as pd\n",
    "all_data = pd.read_pickle('cleaning_anamoly.pickle')"
   ]
  },
  {
   "cell_type": "code",
   "execution_count": 32,
   "metadata": {},
   "outputs": [
    {
     "data": {
      "text/plain": [
       "Index(['C.SUBJECT_ID', 'C.HADM_ID', 'C.ICUSTAY_ID', 'D.ITEMID', 'C.CHARTTIME',\n",
       "       'C.VALUE', 'C.VALUENUM', 'C.VALUEUOM', 'II.INTIME', 'II.OUTTIME',\n",
       "       'II.LOS', 'D.LABEL', 'D.UNITNAME', 'hrs_bd', 'final_4hr', 'final_24hr',\n",
       "       'cohort', 'in_h_death', 'in_icu_death', 'readmit', 'outcome',\n",
       "       'VARIABLE', 'lower_limit', 'upper_limit'],\n",
       "      dtype='object')"
      ]
     },
     "execution_count": 32,
     "metadata": {},
     "output_type": "execute_result"
    }
   ],
   "source": [
    "all_data.keys()"
   ]
  },
  {
   "cell_type": "code",
   "execution_count": 2,
   "metadata": {},
   "outputs": [
    {
     "ename": "NameError",
     "evalue": "name 'variable_mapping' is not defined",
     "output_type": "error",
     "traceback": [
      "\u001b[0;31m---------------------------------------------------------------------------\u001b[0m",
      "\u001b[0;31mNameError\u001b[0m                                 Traceback (most recent call last)",
      "\u001b[0;32m<ipython-input-2-a0331740668a>\u001b[0m in \u001b[0;36m<module>\u001b[0;34m()\u001b[0m\n\u001b[0;32m----> 1\u001b[0;31m \u001b[0mgcs_summed\u001b[0m \u001b[0;34m=\u001b[0m \u001b[0mall_data\u001b[0m\u001b[0;34m[\u001b[0m\u001b[0mall_data\u001b[0m\u001b[0;34m[\u001b[0m\u001b[0;34m'D.ITEMID'\u001b[0m\u001b[0;34m]\u001b[0m\u001b[0;34m.\u001b[0m\u001b[0misin\u001b[0m\u001b[0;34m(\u001b[0m\u001b[0mvariable_mapping\u001b[0m\u001b[0;34m[\u001b[0m\u001b[0;34m'gcs'\u001b[0m\u001b[0;34m]\u001b[0m\u001b[0;34m)\u001b[0m\u001b[0;34m]\u001b[0m\u001b[0;34m\u001b[0m\u001b[0;34m\u001b[0m\u001b[0m\n\u001b[0m\u001b[1;32m      2\u001b[0m \u001b[0mgcs_summed\u001b[0m\u001b[0;34m[\u001b[0m\u001b[0;34m'ncpts'\u001b[0m\u001b[0;34m]\u001b[0m \u001b[0;34m=\u001b[0m \u001b[0mgcs_summed\u001b[0m\u001b[0;34m[\u001b[0m\u001b[0;34m'C.VALUENUM'\u001b[0m\u001b[0;34m]\u001b[0m\u001b[0;34m\u001b[0m\u001b[0;34m\u001b[0m\u001b[0m\n\u001b[1;32m      3\u001b[0m \u001b[0mgcs_summed\u001b[0m \u001b[0;34m=\u001b[0m \u001b[0mgcs_summed\u001b[0m\u001b[0;34m.\u001b[0m\u001b[0mgroupby\u001b[0m\u001b[0;34m(\u001b[0m\u001b[0;34m[\u001b[0m\u001b[0;34m'C.ICUSTAY_ID'\u001b[0m\u001b[0;34m,\u001b[0m \u001b[0;34m'C.CHARTTIME'\u001b[0m\u001b[0;34m]\u001b[0m\u001b[0;34m)\u001b[0m\u001b[0;34m\u001b[0m\u001b[0;34m\u001b[0m\u001b[0m\n",
      "\u001b[0;31mNameError\u001b[0m: name 'variable_mapping' is not defined"
     ]
    }
   ],
   "source": [
    "gcs_summed = all_data[all_data['D.ITEMID'].isin(variable_mapping['gcs'])]\n",
    "gcs_summed['ncpts'] = gcs_summed['C.VALUENUM']\n",
    "gcs_summed = gcs_summed.groupby(['C.ICUSTAY_ID', 'C.CHARTTIME'])"
   ]
  },
  {
   "cell_type": "code",
   "execution_count": null,
   "metadata": {},
   "outputs": [],
   "source": [
    "gcs_summed = gcs_summed.aggregate({'C.VALUENUM': 'sum', \n",
    "                     'ncpts': 'count',\n",
    "                     'hrs_bd': 'min',\n",
    "                     'C.HADM_ID':'min',\n",
    "                     'C.SUBJECT_ID':'min',\n",
    "                     'D.ITEMID':'min',\n",
    "                     'C.VALUE':'min',\n",
    "                     'C.VALUEUOM':'min',\n",
    "                     'D.LABEL':'min',\n",
    "                     'D.UNITNAME':'min',\n",
    "                     'II.INTIME':'min',\n",
    "                     'II.LOS':'min',\n",
    "                     'II.OUTTIME':'min',\n",
    "                     'final_4hr':'min',\n",
    "                     'final_24hr':'min',\n",
    "                     'cohort':'min',\n",
    "                     'in_h_death':'min',\n",
    "                     'in_icu_death':'min',\n",
    "                     'readmit':'min',\n",
    "                     'outcome':'min',\n",
    "                     'VARIABLE':'min',\n",
    "                     'lower_limit':'min',\n",
    "                     'upper_limit':'min'\n",
    "                    })"
   ]
  },
  {
   "cell_type": "markdown",
   "metadata": {},
   "source": [
    "About 1% of GCS measures are not 'full' (i.e. one or more cpt missing)\n",
    "We - remove these because it would be unfair to test on two components without altering the test."
   ]
  },
  {
   "cell_type": "code",
   "execution_count": null,
   "metadata": {},
   "outputs": [],
   "source": [
    "_frac_incomplete = sum(gcs_summed['ncpts']<3)/float(len(gcs_summed))\n",
    "print(\"%.4f of gcs measures not complete.\" %_frac_incomplete)\n",
    "gcs_summed = gcs_summed[gcs_summed['ncpts']==3]"
   ]
  },
  {
   "cell_type": "markdown",
   "metadata": {},
   "source": [
    "#### Remove all single GCS components and append the complete GCS values to the data:"
   ]
  },
  {
   "cell_type": "code",
   "execution_count": null,
   "metadata": {},
   "outputs": [],
   "source": [
    "all_data = all_data[~all_data['D.ITEMID'].isin(variable_mapping['gcs'])]"
   ]
  },
  {
   "cell_type": "code",
   "execution_count": null,
   "metadata": {},
   "outputs": [],
   "source": [
    "gcs_summed = gcs_summed.reset_index()"
   ]
  },
  {
   "cell_type": "code",
   "execution_count": null,
   "metadata": {},
   "outputs": [],
   "source": [
    "gcs_summed = gcs_summed.drop(columns='ncpts')\n",
    "all_data = all_data.append(gcs_summed, ignore_index=True)\n",
    "## VARIABLE='GCS' is now GCS total"
   ]
  },
  {
   "cell_type": "code",
   "execution_count": null,
   "metadata": {},
   "outputs": [],
   "source": [
    "all_data.tail(10)"
   ]
  },
  {
   "cell_type": "markdown",
   "metadata": {},
   "source": [
    "#### And convert all required units to be consistent with our UK data:"
   ]
  },
  {
   "cell_type": "code",
   "execution_count": 15,
   "metadata": {},
   "outputs": [],
   "source": [
    "units_to_convert = ['creatinine', 'temp', 'po2', 'pco2', 'bun']\n",
    "\n",
    "conv_crea = lambda crea: 88.42 * crea  ## convert from mg/dL (MIMIC) to umol/L (GICU)\n",
    "conv_temp = lambda temp: (temp-32)/1.8 ## convert from Farenhiet (MIMIC) to Celcius (GICU)\n",
    "conv_bg = lambda gas: 0.1333 * gas   ## convert blod gas from mmHg (MIMIC) to kPa (GICU)\n",
    "conv_bun = lambda bun: 0.3571 * bun  ## convert mg/dL (MIMC) to mmol/L (GICU)\n",
    "\n",
    "def _convert(var, val):\n",
    "    \n",
    "    new_val = None\n",
    "    if var=='creatinine':\n",
    "        new_val = conv_crea(val)\n",
    "    elif var=='temp':\n",
    "        if val==None:\n",
    "            new_val=None\n",
    "        else:\n",
    "            new_val = conv_temp(val)\n",
    "    elif var=='po2' or var=='pco2':\n",
    "        new_val = conv_bg(val)\n",
    "    elif var=='bun':\n",
    "        new_val = conv_bun(val)\n",
    "        \n",
    "    return new_val"
   ]
  },
  {
   "cell_type": "code",
   "execution_count": 9,
   "metadata": {},
   "outputs": [],
   "source": [
    "import numpy as np\n",
    "all_data['C.VALUENUM'] = np.where(all_data['VARIABLE']=='creatinine',all_data['C.VALUENUM']*88.42, all_data['C.VALUENUM'])\n",
    "all_data['C.VALUENUM'] = np.where(all_data['VARIABLE']=='temp', (all_data['C.VALUENUM']-32)/1.8, all_data['C.VALUENUM'])\n",
    "all_data['C.VALUENUM'] = np.where(all_data['VARIABLE'].isin(['po2','pco2']), all_data['C.VALUENUM']*0.1333, all_data['C.VALUENUM'])\n",
    "all_data['C.VALUENUM'] = np.where(all_data['VARIABLE']=='bun',all_data['C.VALUENUM']*0.3571, all_data['C.VALUENUM'])"
   ]
  },
  {
   "cell_type": "code",
   "execution_count": 8,
   "metadata": {},
   "outputs": [],
   "source": [
    "all_data = all_data.drop(columns='C.VALUENUM2')"
   ]
  },
  {
   "cell_type": "code",
   "execution_count": 10,
   "metadata": {},
   "outputs": [],
   "source": [
    "all_data.to_pickle('cleaning_gcs.pickle')"
   ]
  },
  {
   "cell_type": "markdown",
   "metadata": {},
   "source": [
    "#### We now work out if airway is patent...\n",
    "\n",
    "- We simply use presence of ETT as proxy for non-patent airway. \n",
    "- remove PEEP (it would be possible to stipulate PEEP + ETT -> non-patent, but simultaneity calculation is an unecessary complication)."
   ]
  },
  {
   "cell_type": "code",
   "execution_count": 14,
   "metadata": {},
   "outputs": [],
   "source": [
    "airway_reduced = all_data[all_data['D.ITEMID'].isin(variable_mapping['airway'])].groupby(['C.ICUSTAY_ID', 'C.CHARTTIME'])\n"
   ]
  },
  {
   "cell_type": "code",
   "execution_count": 15,
   "metadata": {},
   "outputs": [],
   "source": [
    "airway_reduced = airway_reduced.aggregate({\n",
    "                     'hrs_bd': 'min',\n",
    "                     'C.HADM_ID':'min',\n",
    "                     'C.SUBJECT_ID':'min',\n",
    "                     'D.ITEMID':'min',\n",
    "                     'C.VALUE':'min',\n",
    "                     'C.VALUEUOM':'min',\n",
    "                     'D.LABEL':'min',\n",
    "                     'D.UNITNAME':'min',\n",
    "                     'II.INTIME':'min',\n",
    "                     'II.LOS':'min',\n",
    "                     'II.OUTTIME':'min',\n",
    "                     'final_4hr':'min',\n",
    "                     'final_24hr':'min',\n",
    "                     'cohort':'min',\n",
    "                     'in_h_death':'min',\n",
    "                     'in_icu_death':'min',\n",
    "                     'readmit':'min',\n",
    "                     'outcome':'min',\n",
    "                     'VARIABLE':'min',\n",
    "                     'lower_limit':'min',\n",
    "                     'upper_limit':'min'\n",
    "                    })"
   ]
  },
  {
   "cell_type": "code",
   "execution_count": 23,
   "metadata": {},
   "outputs": [],
   "source": [
    "airway_reduced = airway_reduced.reset_index()"
   ]
  },
  {
   "cell_type": "code",
   "execution_count": 26,
   "metadata": {},
   "outputs": [],
   "source": [
    "airway_reduced['C.VALUENUM'] = 1.0"
   ]
  },
  {
   "cell_type": "markdown",
   "metadata": {},
   "source": [
    "#### Remove all PEEP and AIRWAY:"
   ]
  },
  {
   "cell_type": "code",
   "execution_count": 27,
   "metadata": {},
   "outputs": [],
   "source": [
    "all_data = all_data[~all_data['D.ITEMID'].isin(variable_mapping['airway']+variable_mapping['peep'])]"
   ]
  },
  {
   "cell_type": "markdown",
   "metadata": {},
   "source": [
    "#### Add reduced airway variable back in and save this 'clean' version of the data:"
   ]
  },
  {
   "cell_type": "code",
   "execution_count": 29,
   "metadata": {},
   "outputs": [
    {
     "name": "stderr",
     "output_type": "stream",
     "text": [
      "/usr/local/lib/python3.6/dist-packages/pandas/core/frame.py:6211: FutureWarning: Sorting because non-concatenation axis is not aligned. A future version\n",
      "of pandas will change to not sort by default.\n",
      "\n",
      "To accept the future behavior, pass 'sort=False'.\n",
      "\n",
      "To retain the current behavior and silence the warning, pass 'sort=True'.\n",
      "\n",
      "  sort=sort)\n"
     ]
    }
   ],
   "source": [
    "all_data = all_data.append(airway_reduced, ignore_index=True)"
   ]
  },
  {
   "cell_type": "code",
   "execution_count": 32,
   "metadata": {},
   "outputs": [],
   "source": [
    "all_data.to_pickle('all_cleaned.pickle')"
   ]
  },
  {
   "cell_type": "markdown",
   "metadata": {},
   "source": [
    "#### We now extract the CALLOUT times (RFD flags) for each icustay and add these to the data: \n",
    "\n",
    "For each ICUSTAY want to get the corresponding successful CALLOUTs (only those with outcomes marked as 'Discharged'). There are a small number of stays with mutliple succesful discharges, we remove these instances from the data to avoid confusion (they correspond the patients being transfered between different ICUs)."
   ]
  },
  {
   "cell_type": "code",
   "execution_count": 22,
   "metadata": {
    "collapsed": true
   },
   "outputs": [],
   "source": [
    "all_data = pd.read_pickle('all_cleaned.pickle')"
   ]
  },
  {
   "cell_type": "code",
   "execution_count": 33,
   "metadata": {},
   "outputs": [],
   "source": [
    "from google.cloud import bigquery\n",
    "# Construct a BigQuery client object.\n",
    "client = bigquery.Client()"
   ]
  },
  {
   "cell_type": "code",
   "execution_count": 34,
   "metadata": {},
   "outputs": [],
   "source": [
    "query_job = 'SELECT * from test.callout'\n",
    "callouts = client.query(query_job).to_dataframe()"
   ]
  },
  {
   "cell_type": "code",
   "execution_count": 39,
   "metadata": {},
   "outputs": [],
   "source": [
    "_stays = all_data.groupby(by='C.ICUSTAY_ID').aggregate({'C.HADM_ID':'min', 'II.INTIME':'min', 'II.OUTTIME':'min'}).reset_index()"
   ]
  },
  {
   "cell_type": "code",
   "execution_count": 45,
   "metadata": {},
   "outputs": [],
   "source": [
    "_stays = _stays.rename(columns={'C.HADM_ID': 'HADM_ID', 'II.INTIME':'IN', 'II.OUTTIME':'OUT'})"
   ]
  },
  {
   "cell_type": "code",
   "execution_count": 49,
   "metadata": {},
   "outputs": [
    {
     "data": {
      "text/html": [
       "<div>\n",
       "<style scoped>\n",
       "    .dataframe tbody tr th:only-of-type {\n",
       "        vertical-align: middle;\n",
       "    }\n",
       "\n",
       "    .dataframe tbody tr th {\n",
       "        vertical-align: top;\n",
       "    }\n",
       "\n",
       "    .dataframe thead th {\n",
       "        text-align: right;\n",
       "    }\n",
       "</style>\n",
       "<table border=\"1\" class=\"dataframe\">\n",
       "  <thead>\n",
       "    <tr style=\"text-align: right;\">\n",
       "      <th></th>\n",
       "      <th>C.ICUSTAY_ID</th>\n",
       "      <th>HADM_ID</th>\n",
       "      <th>IN</th>\n",
       "      <th>OUT</th>\n",
       "    </tr>\n",
       "  </thead>\n",
       "  <tbody>\n",
       "    <tr>\n",
       "      <th>0</th>\n",
       "      <td>200001</td>\n",
       "      <td>152234</td>\n",
       "      <td>2181-11-25 19:06:12</td>\n",
       "      <td>2181-11-28 20:59:25</td>\n",
       "    </tr>\n",
       "    <tr>\n",
       "      <th>1</th>\n",
       "      <td>200010</td>\n",
       "      <td>192256</td>\n",
       "      <td>2132-08-04 23:03:19</td>\n",
       "      <td>2132-08-05 22:14:11</td>\n",
       "    </tr>\n",
       "    <tr>\n",
       "      <th>2</th>\n",
       "      <td>200011</td>\n",
       "      <td>121562</td>\n",
       "      <td>2188-08-06 01:39:24</td>\n",
       "      <td>2188-08-07 16:50:53</td>\n",
       "    </tr>\n",
       "    <tr>\n",
       "      <th>3</th>\n",
       "      <td>200016</td>\n",
       "      <td>117458</td>\n",
       "      <td>2150-12-02 15:59:20</td>\n",
       "      <td>2150-12-03 14:54:29</td>\n",
       "    </tr>\n",
       "    <tr>\n",
       "      <th>4</th>\n",
       "      <td>200021</td>\n",
       "      <td>109307</td>\n",
       "      <td>2114-12-26 19:45:12</td>\n",
       "      <td>2114-12-27 22:46:28</td>\n",
       "    </tr>\n",
       "    <tr>\n",
       "      <th>5</th>\n",
       "      <td>200024</td>\n",
       "      <td>179633</td>\n",
       "      <td>2127-03-03 16:09:07</td>\n",
       "      <td>2127-03-04 01:18:06</td>\n",
       "    </tr>\n",
       "    <tr>\n",
       "      <th>6</th>\n",
       "      <td>200033</td>\n",
       "      <td>198650</td>\n",
       "      <td>2198-08-07 17:56:17</td>\n",
       "      <td>2198-08-21 14:59:18</td>\n",
       "    </tr>\n",
       "    <tr>\n",
       "      <th>7</th>\n",
       "      <td>200034</td>\n",
       "      <td>145866</td>\n",
       "      <td>2186-01-20 10:26:04</td>\n",
       "      <td>2186-01-23 15:38:36</td>\n",
       "    </tr>\n",
       "    <tr>\n",
       "      <th>8</th>\n",
       "      <td>200038</td>\n",
       "      <td>175436</td>\n",
       "      <td>2143-10-24 20:35:24</td>\n",
       "      <td>2143-10-25 22:00:02</td>\n",
       "    </tr>\n",
       "    <tr>\n",
       "      <th>9</th>\n",
       "      <td>200049</td>\n",
       "      <td>149216</td>\n",
       "      <td>2118-08-28 08:56:44</td>\n",
       "      <td>2118-08-29 19:02:09</td>\n",
       "    </tr>\n",
       "  </tbody>\n",
       "</table>\n",
       "</div>"
      ],
      "text/plain": [
       "   C.ICUSTAY_ID  HADM_ID                  IN                 OUT\n",
       "0        200001   152234 2181-11-25 19:06:12 2181-11-28 20:59:25\n",
       "1        200010   192256 2132-08-04 23:03:19 2132-08-05 22:14:11\n",
       "2        200011   121562 2188-08-06 01:39:24 2188-08-07 16:50:53\n",
       "3        200016   117458 2150-12-02 15:59:20 2150-12-03 14:54:29\n",
       "4        200021   109307 2114-12-26 19:45:12 2114-12-27 22:46:28\n",
       "5        200024   179633 2127-03-03 16:09:07 2127-03-04 01:18:06\n",
       "6        200033   198650 2198-08-07 17:56:17 2198-08-21 14:59:18\n",
       "7        200034   145866 2186-01-20 10:26:04 2186-01-23 15:38:36\n",
       "8        200038   175436 2143-10-24 20:35:24 2143-10-25 22:00:02\n",
       "9        200049   149216 2118-08-28 08:56:44 2118-08-29 19:02:09"
      ]
     },
     "execution_count": 49,
     "metadata": {},
     "output_type": "execute_result"
    }
   ],
   "source": [
    "_stays.head(10)"
   ]
  },
  {
   "cell_type": "code",
   "execution_count": 50,
   "metadata": {},
   "outputs": [],
   "source": [
    "_stays_join = _stays.merge(callouts, on='HADM_ID',how='inner')"
   ]
  },
  {
   "cell_type": "code",
   "execution_count": 57,
   "metadata": {},
   "outputs": [],
   "source": [
    "_stays_join['RFD'] = _stays_join['CREATETIME'].apply(lambda ti: ti.replace(tzinfo=None))"
   ]
  },
  {
   "cell_type": "code",
   "execution_count": 58,
   "metadata": {},
   "outputs": [
    {
     "data": {
      "text/html": [
       "<div>\n",
       "<style scoped>\n",
       "    .dataframe tbody tr th:only-of-type {\n",
       "        vertical-align: middle;\n",
       "    }\n",
       "\n",
       "    .dataframe tbody tr th {\n",
       "        vertical-align: top;\n",
       "    }\n",
       "\n",
       "    .dataframe thead th {\n",
       "        text-align: right;\n",
       "    }\n",
       "</style>\n",
       "<table border=\"1\" class=\"dataframe\">\n",
       "  <thead>\n",
       "    <tr style=\"text-align: right;\">\n",
       "      <th></th>\n",
       "      <th>C.ICUSTAY_ID</th>\n",
       "      <th>HADM_ID</th>\n",
       "      <th>IN</th>\n",
       "      <th>OUT</th>\n",
       "      <th>ROW_ID</th>\n",
       "      <th>SUBJECT_ID</th>\n",
       "      <th>SUBMIT_WARDID</th>\n",
       "      <th>SUBMIT_CAREUNIT</th>\n",
       "      <th>CURR_WARDID</th>\n",
       "      <th>CURR_CAREUNIT</th>\n",
       "      <th>...</th>\n",
       "      <th>CALLOUT_OUTCOME</th>\n",
       "      <th>DISCHARGE_WARDID</th>\n",
       "      <th>ACKNOWLEDGE_STATUS</th>\n",
       "      <th>CREATETIME</th>\n",
       "      <th>UPDATETIME</th>\n",
       "      <th>ACKNOWLEDGETIME</th>\n",
       "      <th>OUTCOMETIME</th>\n",
       "      <th>FIRSTRESERVATIONTIME</th>\n",
       "      <th>CURRENTRESERVATIONTIME</th>\n",
       "      <th>RFD</th>\n",
       "    </tr>\n",
       "  </thead>\n",
       "  <tbody>\n",
       "    <tr>\n",
       "      <th>0</th>\n",
       "      <td>200001</td>\n",
       "      <td>152234</td>\n",
       "      <td>2181-11-25 19:06:12</td>\n",
       "      <td>2181-11-28 20:59:25</td>\n",
       "      <td>20939</td>\n",
       "      <td>55973</td>\n",
       "      <td>23.0</td>\n",
       "      <td>None</td>\n",
       "      <td>54.0</td>\n",
       "      <td>MICU</td>\n",
       "      <td>...</td>\n",
       "      <td>Discharged</td>\n",
       "      <td>54.0</td>\n",
       "      <td>Acknowledged</td>\n",
       "      <td>2181-11-28 11:16:36</td>\n",
       "      <td>2181-11-28 11:16:36</td>\n",
       "      <td>2181-11-28 11:34:05</td>\n",
       "      <td>2181-11-28 21:10:25</td>\n",
       "      <td>2181-11-28 18:10:26</td>\n",
       "      <td>NaT</td>\n",
       "      <td>2181-11-28 11:16:36</td>\n",
       "    </tr>\n",
       "    <tr>\n",
       "      <th>1</th>\n",
       "      <td>200010</td>\n",
       "      <td>192256</td>\n",
       "      <td>2132-08-04 23:03:19</td>\n",
       "      <td>2132-08-05 22:14:11</td>\n",
       "      <td>4647</td>\n",
       "      <td>11861</td>\n",
       "      <td>50.0</td>\n",
       "      <td>None</td>\n",
       "      <td>4.0</td>\n",
       "      <td>MICU</td>\n",
       "      <td>...</td>\n",
       "      <td>Discharged</td>\n",
       "      <td>4.0</td>\n",
       "      <td>Acknowledged</td>\n",
       "      <td>2132-08-05 10:47:14</td>\n",
       "      <td>2132-08-05 14:40:19</td>\n",
       "      <td>2132-08-05 15:20:39</td>\n",
       "      <td>2132-08-05 22:29:30</td>\n",
       "      <td>2132-08-05 18:44:21</td>\n",
       "      <td>NaT</td>\n",
       "      <td>2132-08-05 10:47:14</td>\n",
       "    </tr>\n",
       "    <tr>\n",
       "      <th>2</th>\n",
       "      <td>200021</td>\n",
       "      <td>109307</td>\n",
       "      <td>2114-12-26 19:45:12</td>\n",
       "      <td>2114-12-27 22:46:28</td>\n",
       "      <td>22732</td>\n",
       "      <td>61691</td>\n",
       "      <td>33.0</td>\n",
       "      <td>None</td>\n",
       "      <td>31.0</td>\n",
       "      <td>SICU</td>\n",
       "      <td>...</td>\n",
       "      <td>Discharged</td>\n",
       "      <td>31.0</td>\n",
       "      <td>Acknowledged</td>\n",
       "      <td>2114-12-27 14:37:41</td>\n",
       "      <td>2114-12-27 14:37:41</td>\n",
       "      <td>2114-12-27 15:22:35</td>\n",
       "      <td>2114-12-27 23:10:24</td>\n",
       "      <td>2114-12-27 21:55:24</td>\n",
       "      <td>NaT</td>\n",
       "      <td>2114-12-27 14:37:41</td>\n",
       "    </tr>\n",
       "    <tr>\n",
       "      <th>3</th>\n",
       "      <td>200024</td>\n",
       "      <td>179633</td>\n",
       "      <td>2127-03-03 16:09:07</td>\n",
       "      <td>2127-03-04 01:18:06</td>\n",
       "      <td>27327</td>\n",
       "      <td>76603</td>\n",
       "      <td>52.0</td>\n",
       "      <td>None</td>\n",
       "      <td>45.0</td>\n",
       "      <td>MICU</td>\n",
       "      <td>...</td>\n",
       "      <td>Discharged</td>\n",
       "      <td>45.0</td>\n",
       "      <td>Acknowledged</td>\n",
       "      <td>2127-02-27 12:48:34</td>\n",
       "      <td>2127-02-27 12:48:34</td>\n",
       "      <td>2127-02-27 13:11:32</td>\n",
       "      <td>2127-02-28 14:10:30</td>\n",
       "      <td>2127-02-27 16:10:26</td>\n",
       "      <td>NaT</td>\n",
       "      <td>2127-02-27 12:48:34</td>\n",
       "    </tr>\n",
       "    <tr>\n",
       "      <th>4</th>\n",
       "      <td>276949</td>\n",
       "      <td>179633</td>\n",
       "      <td>2127-02-25 03:37:49</td>\n",
       "      <td>2127-02-28 14:00:21</td>\n",
       "      <td>27327</td>\n",
       "      <td>76603</td>\n",
       "      <td>52.0</td>\n",
       "      <td>None</td>\n",
       "      <td>45.0</td>\n",
       "      <td>MICU</td>\n",
       "      <td>...</td>\n",
       "      <td>Discharged</td>\n",
       "      <td>45.0</td>\n",
       "      <td>Acknowledged</td>\n",
       "      <td>2127-02-27 12:48:34</td>\n",
       "      <td>2127-02-27 12:48:34</td>\n",
       "      <td>2127-02-27 13:11:32</td>\n",
       "      <td>2127-02-28 14:10:30</td>\n",
       "      <td>2127-02-27 16:10:26</td>\n",
       "      <td>NaT</td>\n",
       "      <td>2127-02-27 12:48:34</td>\n",
       "    </tr>\n",
       "    <tr>\n",
       "      <th>5</th>\n",
       "      <td>200033</td>\n",
       "      <td>198650</td>\n",
       "      <td>2198-08-07 17:56:17</td>\n",
       "      <td>2198-08-21 14:59:18</td>\n",
       "      <td>21079</td>\n",
       "      <td>56369</td>\n",
       "      <td>33.0</td>\n",
       "      <td>SICU</td>\n",
       "      <td>33.0</td>\n",
       "      <td>SICU</td>\n",
       "      <td>...</td>\n",
       "      <td>Cancelled</td>\n",
       "      <td>NaN</td>\n",
       "      <td>Revised</td>\n",
       "      <td>2198-08-10 10:17:16</td>\n",
       "      <td>2198-08-10 18:10:58</td>\n",
       "      <td>NaT</td>\n",
       "      <td>2198-08-10 18:10:58</td>\n",
       "      <td>NaT</td>\n",
       "      <td>NaT</td>\n",
       "      <td>2198-08-10 10:17:16</td>\n",
       "    </tr>\n",
       "    <tr>\n",
       "      <th>6</th>\n",
       "      <td>200034</td>\n",
       "      <td>145866</td>\n",
       "      <td>2186-01-20 10:26:04</td>\n",
       "      <td>2186-01-23 15:38:36</td>\n",
       "      <td>33991</td>\n",
       "      <td>98276</td>\n",
       "      <td>57.0</td>\n",
       "      <td>None</td>\n",
       "      <td>31.0</td>\n",
       "      <td>SICU</td>\n",
       "      <td>...</td>\n",
       "      <td>Discharged</td>\n",
       "      <td>31.0</td>\n",
       "      <td>Acknowledged</td>\n",
       "      <td>2186-01-23 10:09:21</td>\n",
       "      <td>2186-01-23 10:09:21</td>\n",
       "      <td>2186-01-23 10:21:22</td>\n",
       "      <td>2186-01-23 15:55:20</td>\n",
       "      <td>2186-01-23 11:25:23</td>\n",
       "      <td>NaT</td>\n",
       "      <td>2186-01-23 10:09:21</td>\n",
       "    </tr>\n",
       "    <tr>\n",
       "      <th>7</th>\n",
       "      <td>200038</td>\n",
       "      <td>175436</td>\n",
       "      <td>2143-10-24 20:35:24</td>\n",
       "      <td>2143-10-25 22:00:02</td>\n",
       "      <td>13210</td>\n",
       "      <td>29708</td>\n",
       "      <td>50.0</td>\n",
       "      <td>None</td>\n",
       "      <td>31.0</td>\n",
       "      <td>MICU</td>\n",
       "      <td>...</td>\n",
       "      <td>Discharged</td>\n",
       "      <td>31.0</td>\n",
       "      <td>Acknowledged</td>\n",
       "      <td>2143-10-25 17:57:14</td>\n",
       "      <td>2143-10-25 17:57:14</td>\n",
       "      <td>2143-10-25 18:41:18</td>\n",
       "      <td>2143-10-25 22:10:04</td>\n",
       "      <td>NaT</td>\n",
       "      <td>NaT</td>\n",
       "      <td>2143-10-25 17:57:14</td>\n",
       "    </tr>\n",
       "    <tr>\n",
       "      <th>8</th>\n",
       "      <td>200049</td>\n",
       "      <td>149216</td>\n",
       "      <td>2118-08-28 08:56:44</td>\n",
       "      <td>2118-08-29 19:02:09</td>\n",
       "      <td>26268</td>\n",
       "      <td>73241</td>\n",
       "      <td>23.0</td>\n",
       "      <td>None</td>\n",
       "      <td>54.0</td>\n",
       "      <td>MICU</td>\n",
       "      <td>...</td>\n",
       "      <td>Discharged</td>\n",
       "      <td>54.0</td>\n",
       "      <td>Acknowledged</td>\n",
       "      <td>2118-08-29 15:49:16</td>\n",
       "      <td>2118-08-29 16:56:15</td>\n",
       "      <td>2118-08-29 16:56:17</td>\n",
       "      <td>2118-08-29 19:26:12</td>\n",
       "      <td>2118-08-29 17:10:24</td>\n",
       "      <td>NaT</td>\n",
       "      <td>2118-08-29 15:49:16</td>\n",
       "    </tr>\n",
       "    <tr>\n",
       "      <th>9</th>\n",
       "      <td>200049</td>\n",
       "      <td>149216</td>\n",
       "      <td>2118-08-28 08:56:44</td>\n",
       "      <td>2118-08-29 19:02:09</td>\n",
       "      <td>26267</td>\n",
       "      <td>73241</td>\n",
       "      <td>50.0</td>\n",
       "      <td>None</td>\n",
       "      <td>54.0</td>\n",
       "      <td>MICU</td>\n",
       "      <td>...</td>\n",
       "      <td>Discharged</td>\n",
       "      <td>54.0</td>\n",
       "      <td>Acknowledged</td>\n",
       "      <td>2118-08-17 09:34:04</td>\n",
       "      <td>2118-08-17 11:17:46</td>\n",
       "      <td>2118-08-17 11:37:50</td>\n",
       "      <td>2118-08-17 18:11:08</td>\n",
       "      <td>2118-08-17 14:40:28</td>\n",
       "      <td>NaT</td>\n",
       "      <td>2118-08-17 09:34:04</td>\n",
       "    </tr>\n",
       "  </tbody>\n",
       "</table>\n",
       "<p>10 rows × 28 columns</p>\n",
       "</div>"
      ],
      "text/plain": [
       "   C.ICUSTAY_ID  HADM_ID                  IN                 OUT  ROW_ID  \\\n",
       "0        200001   152234 2181-11-25 19:06:12 2181-11-28 20:59:25   20939   \n",
       "1        200010   192256 2132-08-04 23:03:19 2132-08-05 22:14:11    4647   \n",
       "2        200021   109307 2114-12-26 19:45:12 2114-12-27 22:46:28   22732   \n",
       "3        200024   179633 2127-03-03 16:09:07 2127-03-04 01:18:06   27327   \n",
       "4        276949   179633 2127-02-25 03:37:49 2127-02-28 14:00:21   27327   \n",
       "5        200033   198650 2198-08-07 17:56:17 2198-08-21 14:59:18   21079   \n",
       "6        200034   145866 2186-01-20 10:26:04 2186-01-23 15:38:36   33991   \n",
       "7        200038   175436 2143-10-24 20:35:24 2143-10-25 22:00:02   13210   \n",
       "8        200049   149216 2118-08-28 08:56:44 2118-08-29 19:02:09   26268   \n",
       "9        200049   149216 2118-08-28 08:56:44 2118-08-29 19:02:09   26267   \n",
       "\n",
       "   SUBJECT_ID  SUBMIT_WARDID SUBMIT_CAREUNIT  CURR_WARDID CURR_CAREUNIT  \\\n",
       "0       55973           23.0            None         54.0          MICU   \n",
       "1       11861           50.0            None          4.0          MICU   \n",
       "2       61691           33.0            None         31.0          SICU   \n",
       "3       76603           52.0            None         45.0          MICU   \n",
       "4       76603           52.0            None         45.0          MICU   \n",
       "5       56369           33.0            SICU         33.0          SICU   \n",
       "6       98276           57.0            None         31.0          SICU   \n",
       "7       29708           50.0            None         31.0          MICU   \n",
       "8       73241           23.0            None         54.0          MICU   \n",
       "9       73241           50.0            None         54.0          MICU   \n",
       "\n",
       "          ...          CALLOUT_OUTCOME DISCHARGE_WARDID  ACKNOWLEDGE_STATUS  \\\n",
       "0         ...               Discharged             54.0        Acknowledged   \n",
       "1         ...               Discharged              4.0        Acknowledged   \n",
       "2         ...               Discharged             31.0        Acknowledged   \n",
       "3         ...               Discharged             45.0        Acknowledged   \n",
       "4         ...               Discharged             45.0        Acknowledged   \n",
       "5         ...                Cancelled              NaN             Revised   \n",
       "6         ...               Discharged             31.0        Acknowledged   \n",
       "7         ...               Discharged             31.0        Acknowledged   \n",
       "8         ...               Discharged             54.0        Acknowledged   \n",
       "9         ...               Discharged             54.0        Acknowledged   \n",
       "\n",
       "           CREATETIME          UPDATETIME     ACKNOWLEDGETIME  \\\n",
       "0 2181-11-28 11:16:36 2181-11-28 11:16:36 2181-11-28 11:34:05   \n",
       "1 2132-08-05 10:47:14 2132-08-05 14:40:19 2132-08-05 15:20:39   \n",
       "2 2114-12-27 14:37:41 2114-12-27 14:37:41 2114-12-27 15:22:35   \n",
       "3 2127-02-27 12:48:34 2127-02-27 12:48:34 2127-02-27 13:11:32   \n",
       "4 2127-02-27 12:48:34 2127-02-27 12:48:34 2127-02-27 13:11:32   \n",
       "5 2198-08-10 10:17:16 2198-08-10 18:10:58                 NaT   \n",
       "6 2186-01-23 10:09:21 2186-01-23 10:09:21 2186-01-23 10:21:22   \n",
       "7 2143-10-25 17:57:14 2143-10-25 17:57:14 2143-10-25 18:41:18   \n",
       "8 2118-08-29 15:49:16 2118-08-29 16:56:15 2118-08-29 16:56:17   \n",
       "9 2118-08-17 09:34:04 2118-08-17 11:17:46 2118-08-17 11:37:50   \n",
       "\n",
       "          OUTCOMETIME FIRSTRESERVATIONTIME CURRENTRESERVATIONTIME  \\\n",
       "0 2181-11-28 21:10:25  2181-11-28 18:10:26                    NaT   \n",
       "1 2132-08-05 22:29:30  2132-08-05 18:44:21                    NaT   \n",
       "2 2114-12-27 23:10:24  2114-12-27 21:55:24                    NaT   \n",
       "3 2127-02-28 14:10:30  2127-02-27 16:10:26                    NaT   \n",
       "4 2127-02-28 14:10:30  2127-02-27 16:10:26                    NaT   \n",
       "5 2198-08-10 18:10:58                  NaT                    NaT   \n",
       "6 2186-01-23 15:55:20  2186-01-23 11:25:23                    NaT   \n",
       "7 2143-10-25 22:10:04                  NaT                    NaT   \n",
       "8 2118-08-29 19:26:12  2118-08-29 17:10:24                    NaT   \n",
       "9 2118-08-17 18:11:08  2118-08-17 14:40:28                    NaT   \n",
       "\n",
       "                  RFD  \n",
       "0 2181-11-28 11:16:36  \n",
       "1 2132-08-05 10:47:14  \n",
       "2 2114-12-27 14:37:41  \n",
       "3 2127-02-27 12:48:34  \n",
       "4 2127-02-27 12:48:34  \n",
       "5 2198-08-10 10:17:16  \n",
       "6 2186-01-23 10:09:21  \n",
       "7 2143-10-25 17:57:14  \n",
       "8 2118-08-29 15:49:16  \n",
       "9 2118-08-17 09:34:04  \n",
       "\n",
       "[10 rows x 28 columns]"
      ]
     },
     "execution_count": 58,
     "metadata": {},
     "output_type": "execute_result"
    }
   ],
   "source": [
    "_stays_join.head(10)"
   ]
  },
  {
   "cell_type": "code",
   "execution_count": 59,
   "metadata": {},
   "outputs": [],
   "source": [
    "_stays_join['callout_match'] = _stays_join.apply(lambda row: 1 if (row['RFD']>=row['IN'] and row['RFD']<=row['OUT']) else 0, axis=1)"
   ]
  },
  {
   "cell_type": "code",
   "execution_count": 63,
   "metadata": {},
   "outputs": [],
   "source": [
    "_stays_join = _stays_join[(_stays_join['callout_match']==1) & (_stays_join['CALLOUT_OUTCOME']=='Discharged')]"
   ]
  },
  {
   "cell_type": "code",
   "execution_count": 70,
   "metadata": {},
   "outputs": [],
   "source": [
    "counts = _stays_join.groupby(by='C.ICUSTAY_ID').aggregate({'RFD':'count'})\n",
    "counts = counts.rename(columns={'RFD': 'count'}).reset_index()"
   ]
  },
  {
   "cell_type": "code",
   "execution_count": 67,
   "metadata": {},
   "outputs": [
    {
     "name": "stdout",
     "output_type": "stream",
     "text": [
      "There are 208 stays with more than one successful CALLOUT (i.e. transfers).\n"
     ]
    }
   ],
   "source": [
    "print( \"There are %d stays with more than one successful CALLOUT (i.e. transfers).\" %sum(counts['count']>1))"
   ]
  },
  {
   "cell_type": "markdown",
   "metadata": {},
   "source": [
    "#### Remove these stays: "
   ]
  },
  {
   "cell_type": "code",
   "execution_count": 72,
   "metadata": {},
   "outputs": [],
   "source": [
    "remove_stays = counts[counts['count']>1]['C.ICUSTAY_ID']"
   ]
  },
  {
   "cell_type": "code",
   "execution_count": 77,
   "metadata": {},
   "outputs": [],
   "source": [
    "_stays_join = _stays_join[~_stays_join['C.ICUSTAY_ID'].isin(remove_stays)]"
   ]
  },
  {
   "cell_type": "code",
   "execution_count": 78,
   "metadata": {},
   "outputs": [
    {
     "name": "stdout",
     "output_type": "stream",
     "text": [
      "Of the original 14432 icu stays,\n",
      "11288 remain (have successful single callouts)\n"
     ]
    }
   ],
   "source": [
    "print( \"Of the original %d icu stays,\" %len(all_data['C.ICUSTAY_ID'].unique()))\n",
    "print( \"%d remain (have successful single callouts)\" %len(_stays_join['C.ICUSTAY_ID'].unique()))"
   ]
  },
  {
   "cell_type": "markdown",
   "metadata": {},
   "source": [
    "Note: successful discharge here is different to \"positive outcome\" follwoing discharge. Successful simply means the patient did actually leave the icu (i.e. the callout was acted upon) \n",
    "\n",
    "#### We now join the CALLOUTS (RFD flags) to the original data:"
   ]
  },
  {
   "cell_type": "code",
   "execution_count": 80,
   "metadata": {},
   "outputs": [],
   "source": [
    "_stays_join2 = _stays_join[['C.ICUSTAY_ID', 'RFD']]\n",
    "all_data = all_data.merge(_stays_join2, how='inner', on='C.ICUSTAY_ID')"
   ]
  },
  {
   "cell_type": "markdown",
   "metadata": {},
   "source": [
    "#### We now add a column 'hrs_bRFD':\n",
    "\n",
    "This is similar to the column 'hrs_bd' which we added previoulsy. We will filter on this column later to construct the feature matrix."
   ]
  },
  {
   "cell_type": "code",
   "execution_count": 81,
   "metadata": {},
   "outputs": [],
   "source": [
    "all_data['hrs_bRFD'] = all_data['RFD'] - all_data['C.CHARTTIME']\n"
   ]
  },
  {
   "cell_type": "code",
   "execution_count": 82,
   "metadata": {},
   "outputs": [],
   "source": [
    "all_data['hrs_bRFD'] = all_data['hrs_bRFD'].apply(lambda row: row.total_seconds() / float(60**2))"
   ]
  },
  {
   "cell_type": "code",
   "execution_count": 83,
   "metadata": {},
   "outputs": [],
   "source": [
    "all_data.to_pickle('all_cleaned_with_callouts.pickle')"
   ]
  },
  {
   "cell_type": "code",
   "execution_count": 84,
   "metadata": {},
   "outputs": [
    {
     "name": "stdout",
     "output_type": "stream",
     "text": [
      "There are a total of 6133161 rows in the cleaned data.\n"
     ]
    }
   ],
   "source": [
    "print( \"There are a total of %d rows in the cleaned data.\" %len(all_data))"
   ]
  },
  {
   "cell_type": "code",
   "execution_count": 29,
   "metadata": {},
   "outputs": [
    {
     "name": "stdout",
     "output_type": "stream",
     "text": [
      "There are a total of 5495513 rows in the cleaned data.\n"
     ]
    }
   ],
   "source": [
    "print( \"There are a total of %d rows in the cleaned data.\" %len(all_data))"
   ]
  }
 ],
 "metadata": {
  "kernelspec": {
   "display_name": "Python 3 (ipykernel)",
   "language": "python",
   "name": "python3"
  },
  "language_info": {
   "codemirror_mode": {
    "name": "ipython",
    "version": 3
   },
   "file_extension": ".py",
   "mimetype": "text/x-python",
   "name": "python",
   "nbconvert_exporter": "python",
   "pygments_lexer": "ipython3",
   "version": "3.8.11"
  }
 },
 "nbformat": 4,
 "nbformat_minor": 1
}
