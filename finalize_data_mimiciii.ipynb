{
 "cells": [
  {
   "cell_type": "code",
   "execution_count": 1,
   "id": "2d4b29c5-e4fc-4782-8edd-252b06d00b21",
   "metadata": {},
   "outputs": [],
   "source": [
    "import pandas as pd"
   ]
  },
  {
   "cell_type": "code",
   "execution_count": 8,
   "id": "21bf9d7b-9a0c-4477-b953-7ee1e24bbf87",
   "metadata": {},
   "outputs": [],
   "source": [
    "data = pd.read_pickle('mimic-iii/Feature_Matrix_MIMIC_with_missing_values.pickle')\n",
    "#age = pd.read_csv('age.csv')\n",
    "stayid_mapping = pd.read_pickle('mimic-iii/mimic_negative_extras_id_mapping.pickle')\n",
    "stay_data = pd.read_pickle('mimic-iii/mimicii_stay_data.pkl')"
   ]
  },
  {
   "cell_type": "code",
   "execution_count": 9,
   "id": "92c913af-b37c-4b17-8eb7-391847710849",
   "metadata": {},
   "outputs": [],
   "source": [
    "mapping_dict = stayid_mapping.set_index('new_ID')['ICUSTAY_ID'].to_dict()\n",
    "data['orig_stay_id'] = data['ICUSTAY_ID'].apply(lambda x: mapping_dict[x] if x in mapping_dict else x)\n",
    "\n",
    "mapping_dict = stayid_mapping.set_index('new_ID')['Xi'].to_dict()\n",
    "data['Xi'] = data['ICUSTAY_ID'].apply(lambda x: mapping_dict[x] if x in mapping_dict else 0.0)\n",
    "\n",
    "data = data.merge(stay_data, how=\"left\", left_on=\"orig_stay_id\", right_on=\"stay_id\")\n",
    "\n",
    "data = data[data.cohort==1]\n",
    "data[\"los_icu\"] = data[\"los_icu\"] - data[\"Xi\"]\n",
    "\n",
    "data = data.drop(columns=[\"stay_id\", \"Xi\", \"cohort\"])"
   ]
  },
  {
   "cell_type": "code",
   "execution_count": 10,
   "id": "4e209425-cfa4-4e45-8ac8-43ceb2cc193c",
   "metadata": {},
   "outputs": [],
   "source": [
    "data = data.rename(columns={\"ICUSTAY_ID\": \"STAY_ID\"})"
   ]
  },
  {
   "cell_type": "code",
   "execution_count": 11,
   "id": "76f08126-b740-4592-9aa6-f1a96fa74f41",
   "metadata": {},
   "outputs": [],
   "source": [
    "data.to_pickle(\"mimic-iii/Feature_Matrix_MIMIC_with_missing_values_extended.pkl\")"
   ]
  },
  {
   "cell_type": "code",
   "execution_count": null,
   "id": "8eab70c5-2775-48df-a344-62a74abb6996",
   "metadata": {},
   "outputs": [],
   "source": []
  },
  {
   "cell_type": "code",
   "execution_count": 29,
   "id": "eaaadbd9-4d5b-4057-9d5f-af988cd48a74",
   "metadata": {},
   "outputs": [],
   "source": [
    "data = pd.read_pickle('mimic-iii/Feature_Matrix_MIMIC_with_missing_values.pickle')"
   ]
  },
  {
   "cell_type": "code",
   "execution_count": 35,
   "id": "137b0d61-cc20-409f-8ca2-96bbd2fc6c6c",
   "metadata": {},
   "outputs": [
    {
     "data": {
      "text/plain": [
       "(17454, 9640, 7814)"
      ]
     },
     "execution_count": 35,
     "metadata": {},
     "output_type": "execute_result"
    }
   ],
   "source": [
    "len(data[\"outcome\"]), data[\"outcome\"].sum(), len(data[\"outcome\"]) - data[\"outcome\"].sum() "
   ]
  },
  {
   "cell_type": "code",
   "execution_count": 6,
   "id": "e2b5ded8-f29a-4244-a4c3-6613491ff66b",
   "metadata": {},
   "outputs": [
    {
     "data": {
      "text/plain": [
       "16350"
      ]
     },
     "execution_count": 6,
     "metadata": {},
     "output_type": "execute_result"
    }
   ],
   "source": [
    "data.cohort.sum()"
   ]
  },
  {
   "cell_type": "code",
   "execution_count": null,
   "id": "33e64c56-37ab-4e5c-a524-e75a57d25eb6",
   "metadata": {},
   "outputs": [],
   "source": []
  }
 ],
 "metadata": {
  "kernelspec": {
   "display_name": "Python 3 (ipykernel)",
   "language": "python",
   "name": "python3"
  },
  "language_info": {
   "codemirror_mode": {
    "name": "ipython",
    "version": 3
   },
   "file_extension": ".py",
   "mimetype": "text/x-python",
   "name": "python",
   "nbconvert_exporter": "python",
   "pygments_lexer": "ipython3",
   "version": "3.9.12"
  }
 },
 "nbformat": 4,
 "nbformat_minor": 5
}
