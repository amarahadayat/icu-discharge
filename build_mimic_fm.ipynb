{
 "cells": [
  {
   "cell_type": "markdown",
   "metadata": {},
   "source": [
    "# Building the basic MIMIC feautre matrix for NLD work.\n",
    "\n",
    "* We take minimum and maximum values of each variable during four hour sample window (four hours prior to callout)\n",
    "* For 'single_feature_variables' we take only the final value (variables which are infrequently recorded will have the same value for min and max and therefore using both min and max as features for these variables does not make sense).\n",
    "* We find that there are a lot of missing values when using the four hour sample window. So, where values are missing we look back over an extended sample window of 36 hours and take the final value during that time as the feature value.\n",
    "* The above procedure results in imbalanced class sizes (there are relatively few patients with negative outcomes following callout). To balance the class sizes we sample from icustays using the same method described above, but at a sample time that is an integer multiple of 24 hours prior to callout (but not within 24 hours of icu admission). We specify that this sample must be taken at least 72 hours prior to callout, under the assumption that a patient is deintitely not ready for discharge at this point in time.\n",
    "* These extra instances of the negative class are assigned unique identifier and treated as separate patients, however we save the id mapping so we can tell which stay each sample was taken from and at what time point.\n",
    "\n",
    "#### First we configure this script:"
   ]
  },
  {
   "cell_type": "code",
   "execution_count": 1,
   "metadata": {},
   "outputs": [],
   "source": [
    "DATA_PATH = 'all_cleaned_with_callouts.pickle'   ## where the data we previously extracted and cleaned up from mimic is stored\n",
    "SAVE_FLAG = True    ## allows running this script without autmatically overwriting previous feature matrices\n",
    "HOURS_BEFORE_RFD = 4    ## original sample window (four hours specified by NLD)\n",
    "MAXIMUM_LOOKBACK = 48   ## extension to sample window when no value recorded in original window (final valule taken)\n",
    "\n",
    "## variables for which to only use single feature column:\n",
    "single_feature_variables = ['k', 'na', 'bun', 'creatinine', 'hco3', 'haemoglobin', 'fio2', 'airway', 'pco2', 'po2', 'pain']"
   ]
  },
  {
   "cell_type": "code",
   "execution_count": 2,
   "metadata": {},
   "outputs": [],
   "source": [
    "#import graphlab\n",
    "import pandas as pd\n",
    "import numpy as np\n",
    "import pickle\n",
    "import datetime\n",
    "import shutil\n",
    "from collections import OrderedDict\n",
    "import matplotlib.pyplot as plt\n",
    "import matplotlib.dates as dates\n",
    "from tqdm import tqdm\n",
    "#import graphlab.aggregate as agg\n",
    "%matplotlib inline"
   ]
  },
  {
   "cell_type": "code",
   "execution_count": null,
   "metadata": {},
   "outputs": [],
   "source": []
  },
  {
   "cell_type": "markdown",
   "metadata": {},
   "source": [
    "#### Load the data that we have previously extracted and pre-processed from MIMIC:"
   ]
  },
  {
   "cell_type": "code",
   "execution_count": 3,
   "metadata": {},
   "outputs": [],
   "source": [
    "all_data = pd.read_pickle(DATA_PATH)"
   ]
  },
  {
   "cell_type": "markdown",
   "metadata": {},
   "source": [
    "#### Create an SFrame to store summary of missing data:"
   ]
  },
  {
   "cell_type": "code",
   "execution_count": 27,
   "metadata": {},
   "outputs": [],
   "source": []
  },
  {
   "cell_type": "markdown",
   "metadata": {},
   "source": [
    "#### Select only measurments taken in HOURS_BEFORE_DISCHARGE:"
   ]
  },
  {
   "cell_type": "code",
   "execution_count": 4,
   "metadata": {},
   "outputs": [
    {
     "name": "stdout",
     "output_type": "stream",
     "text": [
      "There are 11269 icu satys with variables recorded in the final 4 hours before CALLOUT.\n"
     ]
    }
   ],
   "source": [
    "all_data = all_data[all_data['hrs_bRFD']<=HOURS_BEFORE_RFD]\n",
    "all_data = all_data[all_data['hrs_bRFD']>=0]\n",
    "print( \"There are %d icu satys with variables recorded in the final %d hours before CALLOUT.\" %(len(all_data['C.ICUSTAY_ID'].unique()),HOURS_BEFORE_RFD))"
   ]
  },
  {
   "cell_type": "markdown",
   "metadata": {},
   "source": [
    "#### Produce data summary:"
   ]
  },
  {
   "cell_type": "code",
   "execution_count": 5,
   "metadata": {},
   "outputs": [
    {
     "name": "stdout",
     "output_type": "stream",
     "text": [
      "There are 10651 icu stays in the cohort.\n"
     ]
    }
   ],
   "source": [
    "summary = all_data.groupby(by='C.ICUSTAY_ID').aggregate({'outcome':'min',\n",
    "                                                                     'cohort':'min',\n",
    "                                                                     'readmit':'min',\n",
    "                                                                     'in_h_death':'min',\n",
    "                                                                     'in_icu_death':'min',\n",
    "                                                                     'II.LOS':'min',\n",
    "                                                                     'II.OUTTIME':'min',\n",
    "                                                                     'II.INTIME':'min'\n",
    "                                                                    }).reset_index()\n",
    "\n",
    "print( \"There are %d icu stays in the cohort.\" %sum(summary['cohort']==1))\n",
    "cohort_summary = summary[summary['cohort']==1]"
   ]
  },
  {
   "cell_type": "markdown",
   "metadata": {},
   "source": [
    "#### We now begin to construct the feature matrix."
   ]
  },
  {
   "cell_type": "code",
   "execution_count": 6,
   "metadata": {},
   "outputs": [],
   "source": [
    "features = all_data.groupby(by=['C.ICUSTAY_ID', 'VARIABLE'],as_index=False).agg(\n",
    "                            min_v=('C.VALUENUM', 'min'),\n",
    "                            max_v=('C.VALUENUM', 'max'),\n",
    "                            values=('C.VALUENUM', list),\n",
    "                            count=('C.VALUENUM', 'count'),\n",
    "                            cohort=('cohort', 'min'),\n",
    "                            outcome=('outcome','min'))"
   ]
  },
  {
   "cell_type": "code",
   "execution_count": 7,
   "metadata": {},
   "outputs": [],
   "source": [
    "features = features.sort_values(by='C.ICUSTAY_ID',ascending=True)\n"
   ]
  },
  {
   "cell_type": "markdown",
   "metadata": {},
   "source": [
    "#### We define a function that takes the above dataframe and splits it into feature columns:"
   ]
  },
  {
   "cell_type": "code",
   "execution_count": 8,
   "metadata": {},
   "outputs": [],
   "source": [
    "def _split_features_to_columns(features, single_feature_vars=single_feature_variables):\n",
    "    ''' Note: sort features by ICUSTAY_ID before using this function.'''\n",
    "    \n",
    "    all_variables = features['VARIABLE'].unique()\n",
    "    all_stay_ids = features['C.ICUSTAY_ID'].unique()\n",
    "    \n",
    "    thisFM = pd.DataFrame()\n",
    "    thisFM['ICUSTAY_ID'] = all_stay_ids\n",
    "    \n",
    "    for var in all_variables:\n",
    "        print( var)\n",
    "\n",
    "        var_min = []\n",
    "        var_max = []\n",
    "        var_values = []\n",
    "        var_count = []\n",
    "\n",
    "        _subset = features[features['VARIABLE']==var]\n",
    "        N = len(_subset)-1\n",
    "\n",
    "        rid = 0\n",
    "        for sid in all_stay_ids:\n",
    "            if rid<=N and _subset.iloc[rid]['C.ICUSTAY_ID']==sid:\n",
    "                ## add data and move on a row\n",
    "                row = _subset.iloc[rid]\n",
    "                var_min.append(row['min_v'])\n",
    "                var_max.append(row['max_v'])\n",
    "                var_values.append(row['values'])\n",
    "                rid += 1\n",
    "            else:\n",
    "                ## add None values and stay in place\n",
    "                var_min.append(None)\n",
    "                var_max.append(None)\n",
    "                var_values.append([])\n",
    "\n",
    "        if var not in single_feature_vars:\n",
    "            thisFM[var + '_min'] = var_min\n",
    "            thisFM[var + '_max'] = var_max\n",
    "    \n",
    "        else:\n",
    "            ## if it is a single variable feature - take final value only\n",
    "            thisFM[var] = [val[-1]  if len(val)>0 else None for val in var_values]\n",
    "        \n",
    "    return thisFM"
   ]
  },
  {
   "cell_type": "code",
   "execution_count": 9,
   "metadata": {},
   "outputs": [
    {
     "name": "stdout",
     "output_type": "stream",
     "text": [
      "bp\n",
      "gcs\n",
      "hr\n",
      "resp\n",
      "spo2\n",
      "temp\n",
      "pain\n",
      "fio2\n",
      "na\n",
      "k\n",
      "hco3\n",
      "creatinine\n",
      "bun\n",
      "haemoglobin\n",
      "po2\n",
      "pco2\n",
      "airway\n"
     ]
    }
   ],
   "source": [
    "FM = _split_features_to_columns(features, single_feature_variables)"
   ]
  },
  {
   "cell_type": "markdown",
   "metadata": {},
   "source": [
    "#### How many missing values are there in this feature matrix?"
   ]
  },
  {
   "cell_type": "code",
   "execution_count": 10,
   "metadata": {},
   "outputs": [
    {
     "data": {
      "text/plain": [
       "array([ 4.,  1.,  3., nan,  2.,  5.,  6.])"
      ]
     },
     "execution_count": 10,
     "metadata": {},
     "output_type": "execute_result"
    }
   ],
   "source": [
    "FM['gcs_min'].unique()"
   ]
  },
  {
   "cell_type": "code",
   "execution_count": 11,
   "metadata": {},
   "outputs": [
    {
     "data": {
      "text/html": [
       "<div>\n",
       "<style scoped>\n",
       "    .dataframe tbody tr th:only-of-type {\n",
       "        vertical-align: middle;\n",
       "    }\n",
       "\n",
       "    .dataframe tbody tr th {\n",
       "        vertical-align: top;\n",
       "    }\n",
       "\n",
       "    .dataframe thead th {\n",
       "        text-align: right;\n",
       "    }\n",
       "</style>\n",
       "<table border=\"1\" class=\"dataframe\">\n",
       "  <thead>\n",
       "    <tr style=\"text-align: right;\">\n",
       "      <th></th>\n",
       "      <th>variable</th>\n",
       "      <th>fraction missing</th>\n",
       "    </tr>\n",
       "  </thead>\n",
       "  <tbody>\n",
       "    <tr>\n",
       "      <th>0</th>\n",
       "      <td>ICUSTAY_ID</td>\n",
       "      <td>0.000000</td>\n",
       "    </tr>\n",
       "    <tr>\n",
       "      <th>5</th>\n",
       "      <td>hr_min</td>\n",
       "      <td>0.001686</td>\n",
       "    </tr>\n",
       "    <tr>\n",
       "      <th>6</th>\n",
       "      <td>hr_max</td>\n",
       "      <td>0.001686</td>\n",
       "    </tr>\n",
       "    <tr>\n",
       "      <th>7</th>\n",
       "      <td>resp_min</td>\n",
       "      <td>0.006034</td>\n",
       "    </tr>\n",
       "    <tr>\n",
       "      <th>8</th>\n",
       "      <td>resp_max</td>\n",
       "      <td>0.006034</td>\n",
       "    </tr>\n",
       "    <tr>\n",
       "      <th>1</th>\n",
       "      <td>bp_min</td>\n",
       "      <td>0.006655</td>\n",
       "    </tr>\n",
       "    <tr>\n",
       "      <th>2</th>\n",
       "      <td>bp_max</td>\n",
       "      <td>0.006655</td>\n",
       "    </tr>\n",
       "    <tr>\n",
       "      <th>10</th>\n",
       "      <td>spo2_max</td>\n",
       "      <td>0.011270</td>\n",
       "    </tr>\n",
       "    <tr>\n",
       "      <th>9</th>\n",
       "      <td>spo2_min</td>\n",
       "      <td>0.011270</td>\n",
       "    </tr>\n",
       "    <tr>\n",
       "      <th>12</th>\n",
       "      <td>temp_max</td>\n",
       "      <td>0.074186</td>\n",
       "    </tr>\n",
       "    <tr>\n",
       "      <th>11</th>\n",
       "      <td>temp_min</td>\n",
       "      <td>0.074186</td>\n",
       "    </tr>\n",
       "    <tr>\n",
       "      <th>3</th>\n",
       "      <td>gcs_min</td>\n",
       "      <td>0.096548</td>\n",
       "    </tr>\n",
       "    <tr>\n",
       "      <th>4</th>\n",
       "      <td>gcs_max</td>\n",
       "      <td>0.096548</td>\n",
       "    </tr>\n",
       "    <tr>\n",
       "      <th>13</th>\n",
       "      <td>pain</td>\n",
       "      <td>0.461177</td>\n",
       "    </tr>\n",
       "    <tr>\n",
       "      <th>16</th>\n",
       "      <td>k</td>\n",
       "      <td>0.874612</td>\n",
       "    </tr>\n",
       "    <tr>\n",
       "      <th>15</th>\n",
       "      <td>na</td>\n",
       "      <td>0.874701</td>\n",
       "    </tr>\n",
       "    <tr>\n",
       "      <th>19</th>\n",
       "      <td>bun</td>\n",
       "      <td>0.883752</td>\n",
       "    </tr>\n",
       "    <tr>\n",
       "      <th>18</th>\n",
       "      <td>creatinine</td>\n",
       "      <td>0.884018</td>\n",
       "    </tr>\n",
       "    <tr>\n",
       "      <th>17</th>\n",
       "      <td>hco3</td>\n",
       "      <td>0.884551</td>\n",
       "    </tr>\n",
       "    <tr>\n",
       "      <th>20</th>\n",
       "      <td>haemoglobin</td>\n",
       "      <td>0.894312</td>\n",
       "    </tr>\n",
       "    <tr>\n",
       "      <th>14</th>\n",
       "      <td>fio2</td>\n",
       "      <td>0.932115</td>\n",
       "    </tr>\n",
       "    <tr>\n",
       "      <th>23</th>\n",
       "      <td>airway</td>\n",
       "      <td>0.984914</td>\n",
       "    </tr>\n",
       "    <tr>\n",
       "      <th>22</th>\n",
       "      <td>pco2</td>\n",
       "      <td>0.987665</td>\n",
       "    </tr>\n",
       "    <tr>\n",
       "      <th>21</th>\n",
       "      <td>po2</td>\n",
       "      <td>0.987665</td>\n",
       "    </tr>\n",
       "  </tbody>\n",
       "</table>\n",
       "</div>"
      ],
      "text/plain": [
       "       variable  fraction missing\n",
       "0    ICUSTAY_ID          0.000000\n",
       "5        hr_min          0.001686\n",
       "6        hr_max          0.001686\n",
       "7      resp_min          0.006034\n",
       "8      resp_max          0.006034\n",
       "1        bp_min          0.006655\n",
       "2        bp_max          0.006655\n",
       "10     spo2_max          0.011270\n",
       "9      spo2_min          0.011270\n",
       "12     temp_max          0.074186\n",
       "11     temp_min          0.074186\n",
       "3       gcs_min          0.096548\n",
       "4       gcs_max          0.096548\n",
       "13         pain          0.461177\n",
       "16            k          0.874612\n",
       "15           na          0.874701\n",
       "19          bun          0.883752\n",
       "18   creatinine          0.884018\n",
       "17         hco3          0.884551\n",
       "20  haemoglobin          0.894312\n",
       "14         fio2          0.932115\n",
       "23       airway          0.984914\n",
       "22         pco2          0.987665\n",
       "21          po2          0.987665"
      ]
     },
     "execution_count": 11,
     "metadata": {},
     "output_type": "execute_result"
    }
   ],
   "source": [
    "nrows = float(len(FM))\n",
    "\n",
    "missing_data = pd.DataFrame()\n",
    "vname = []\n",
    "miss_freq = []\n",
    "\n",
    "for col in FM.columns:\n",
    "    vname.append(col) \n",
    "    miss_freq.append(sum(FM[col].isna())/nrows)\n",
    "        \n",
    "missing_data['variable'] = vname\n",
    "missing_data['fraction missing'] = miss_freq\n",
    "\n",
    "missing_data = missing_data.sort_values(by='fraction missing', ascending=True)\n",
    "missing_data.head(25)"
   ]
  },
  {
   "cell_type": "markdown",
   "metadata": {},
   "source": [
    "#### Some variables have a very high frequency of missing values. We decided to improve this by relaxing the 4 hour measurement window of the NLD criteria - SEE BLEOW. In some cases (e.g. laboratory results) this is clearly too short a window and is producing lots of missingness. "
   ]
  },
  {
   "cell_type": "code",
   "execution_count": 12,
   "metadata": {},
   "outputs": [],
   "source": [
    "missing_data_summary = pd.DataFrame()\n",
    "missing_data_summary['variable'] = missing_data['variable']\n",
    "missing_data_summary = missing_data_summary.merge(missing_data,how='right',on='variable')\n",
    "missing_data_summary = missing_data_summary.rename(columns={'fraction missing':'mimic_4hr'})"
   ]
  },
  {
   "cell_type": "code",
   "execution_count": 13,
   "metadata": {},
   "outputs": [
    {
     "data": {
      "text/html": [
       "<div>\n",
       "<style scoped>\n",
       "    .dataframe tbody tr th:only-of-type {\n",
       "        vertical-align: middle;\n",
       "    }\n",
       "\n",
       "    .dataframe tbody tr th {\n",
       "        vertical-align: top;\n",
       "    }\n",
       "\n",
       "    .dataframe thead th {\n",
       "        text-align: right;\n",
       "    }\n",
       "</style>\n",
       "<table border=\"1\" class=\"dataframe\">\n",
       "  <thead>\n",
       "    <tr style=\"text-align: right;\">\n",
       "      <th></th>\n",
       "      <th>variable</th>\n",
       "      <th>mimic_4hr</th>\n",
       "    </tr>\n",
       "  </thead>\n",
       "  <tbody>\n",
       "    <tr>\n",
       "      <th>0</th>\n",
       "      <td>ICUSTAY_ID</td>\n",
       "      <td>0.000000</td>\n",
       "    </tr>\n",
       "    <tr>\n",
       "      <th>1</th>\n",
       "      <td>hr_min</td>\n",
       "      <td>0.001686</td>\n",
       "    </tr>\n",
       "    <tr>\n",
       "      <th>2</th>\n",
       "      <td>hr_max</td>\n",
       "      <td>0.001686</td>\n",
       "    </tr>\n",
       "    <tr>\n",
       "      <th>3</th>\n",
       "      <td>resp_min</td>\n",
       "      <td>0.006034</td>\n",
       "    </tr>\n",
       "    <tr>\n",
       "      <th>4</th>\n",
       "      <td>resp_max</td>\n",
       "      <td>0.006034</td>\n",
       "    </tr>\n",
       "    <tr>\n",
       "      <th>5</th>\n",
       "      <td>bp_min</td>\n",
       "      <td>0.006655</td>\n",
       "    </tr>\n",
       "    <tr>\n",
       "      <th>6</th>\n",
       "      <td>bp_max</td>\n",
       "      <td>0.006655</td>\n",
       "    </tr>\n",
       "    <tr>\n",
       "      <th>7</th>\n",
       "      <td>spo2_max</td>\n",
       "      <td>0.011270</td>\n",
       "    </tr>\n",
       "    <tr>\n",
       "      <th>8</th>\n",
       "      <td>spo2_min</td>\n",
       "      <td>0.011270</td>\n",
       "    </tr>\n",
       "    <tr>\n",
       "      <th>9</th>\n",
       "      <td>temp_max</td>\n",
       "      <td>0.074186</td>\n",
       "    </tr>\n",
       "    <tr>\n",
       "      <th>10</th>\n",
       "      <td>temp_min</td>\n",
       "      <td>0.074186</td>\n",
       "    </tr>\n",
       "    <tr>\n",
       "      <th>11</th>\n",
       "      <td>gcs_min</td>\n",
       "      <td>0.096548</td>\n",
       "    </tr>\n",
       "    <tr>\n",
       "      <th>12</th>\n",
       "      <td>gcs_max</td>\n",
       "      <td>0.096548</td>\n",
       "    </tr>\n",
       "    <tr>\n",
       "      <th>13</th>\n",
       "      <td>pain</td>\n",
       "      <td>0.461177</td>\n",
       "    </tr>\n",
       "    <tr>\n",
       "      <th>14</th>\n",
       "      <td>k</td>\n",
       "      <td>0.874612</td>\n",
       "    </tr>\n",
       "    <tr>\n",
       "      <th>15</th>\n",
       "      <td>na</td>\n",
       "      <td>0.874701</td>\n",
       "    </tr>\n",
       "    <tr>\n",
       "      <th>16</th>\n",
       "      <td>bun</td>\n",
       "      <td>0.883752</td>\n",
       "    </tr>\n",
       "    <tr>\n",
       "      <th>17</th>\n",
       "      <td>creatinine</td>\n",
       "      <td>0.884018</td>\n",
       "    </tr>\n",
       "    <tr>\n",
       "      <th>18</th>\n",
       "      <td>hco3</td>\n",
       "      <td>0.884551</td>\n",
       "    </tr>\n",
       "    <tr>\n",
       "      <th>19</th>\n",
       "      <td>haemoglobin</td>\n",
       "      <td>0.894312</td>\n",
       "    </tr>\n",
       "    <tr>\n",
       "      <th>20</th>\n",
       "      <td>fio2</td>\n",
       "      <td>0.932115</td>\n",
       "    </tr>\n",
       "    <tr>\n",
       "      <th>21</th>\n",
       "      <td>airway</td>\n",
       "      <td>0.984914</td>\n",
       "    </tr>\n",
       "    <tr>\n",
       "      <th>22</th>\n",
       "      <td>pco2</td>\n",
       "      <td>0.987665</td>\n",
       "    </tr>\n",
       "    <tr>\n",
       "      <th>23</th>\n",
       "      <td>po2</td>\n",
       "      <td>0.987665</td>\n",
       "    </tr>\n",
       "  </tbody>\n",
       "</table>\n",
       "</div>"
      ],
      "text/plain": [
       "       variable  mimic_4hr\n",
       "0    ICUSTAY_ID   0.000000\n",
       "1        hr_min   0.001686\n",
       "2        hr_max   0.001686\n",
       "3      resp_min   0.006034\n",
       "4      resp_max   0.006034\n",
       "5        bp_min   0.006655\n",
       "6        bp_max   0.006655\n",
       "7      spo2_max   0.011270\n",
       "8      spo2_min   0.011270\n",
       "9      temp_max   0.074186\n",
       "10     temp_min   0.074186\n",
       "11      gcs_min   0.096548\n",
       "12      gcs_max   0.096548\n",
       "13         pain   0.461177\n",
       "14            k   0.874612\n",
       "15           na   0.874701\n",
       "16          bun   0.883752\n",
       "17   creatinine   0.884018\n",
       "18         hco3   0.884551\n",
       "19  haemoglobin   0.894312\n",
       "20         fio2   0.932115\n",
       "21       airway   0.984914\n",
       "22         pco2   0.987665\n",
       "23          po2   0.987665"
      ]
     },
     "execution_count": 13,
     "metadata": {},
     "output_type": "execute_result"
    }
   ],
   "source": [
    "missing_data_summary"
   ]
  },
  {
   "cell_type": "markdown",
   "metadata": {},
   "source": [
    "#### Here we fill airway since absence -> no ETT at this time and therefore patent airway:"
   ]
  },
  {
   "cell_type": "code",
   "execution_count": 14,
   "metadata": {},
   "outputs": [],
   "source": [
    "FM_filled = FM.copy()\n",
    "FM_filled['airway'] = FM_filled['airway'].fillna(value=0.0)"
   ]
  },
  {
   "cell_type": "markdown",
   "metadata": {},
   "source": [
    "#### We construct a table with the final value before CALLOUT for each variable for each stay:"
   ]
  },
  {
   "cell_type": "code",
   "execution_count": 15,
   "metadata": {},
   "outputs": [],
   "source": [
    "all_data = pd.read_pickle(DATA_PATH)\n",
    "all_data = all_data[all_data['hrs_bRFD']>=0]\n",
    "all_data = all_data[all_data['C.ICUSTAY_ID'].isin(FM_filled['ICUSTAY_ID'])]"
   ]
  },
  {
   "cell_type": "code",
   "execution_count": 16,
   "metadata": {},
   "outputs": [
    {
     "name": "stderr",
     "output_type": "stream",
     "text": [
      "100%|██████████| 161148/161148 [00:47<00:00, 3426.72it/s]\n"
     ]
    },
    {
     "data": {
      "text/html": [
       "<div>\n",
       "<style scoped>\n",
       "    .dataframe tbody tr th:only-of-type {\n",
       "        vertical-align: middle;\n",
       "    }\n",
       "\n",
       "    .dataframe tbody tr th {\n",
       "        vertical-align: top;\n",
       "    }\n",
       "\n",
       "    .dataframe thead th {\n",
       "        text-align: right;\n",
       "    }\n",
       "</style>\n",
       "<table border=\"1\" class=\"dataframe\">\n",
       "  <thead>\n",
       "    <tr style=\"text-align: right;\">\n",
       "      <th></th>\n",
       "      <th>C.ICUSTAY_ID</th>\n",
       "      <th>VARIABLE</th>\n",
       "      <th>hrs_bRFD</th>\n",
       "      <th>C.VALUENUM</th>\n",
       "    </tr>\n",
       "  </thead>\n",
       "  <tbody>\n",
       "    <tr>\n",
       "      <th>0</th>\n",
       "      <td>200001</td>\n",
       "      <td>bp</td>\n",
       "      <td>0.110000</td>\n",
       "      <td>110.0000</td>\n",
       "    </tr>\n",
       "    <tr>\n",
       "      <th>1</th>\n",
       "      <td>200001</td>\n",
       "      <td>bun</td>\n",
       "      <td>8.343333</td>\n",
       "      <td>20.7118</td>\n",
       "    </tr>\n",
       "    <tr>\n",
       "      <th>2</th>\n",
       "      <td>200001</td>\n",
       "      <td>creatinine</td>\n",
       "      <td>8.343333</td>\n",
       "      <td>256.4180</td>\n",
       "    </tr>\n",
       "    <tr>\n",
       "      <th>3</th>\n",
       "      <td>200001</td>\n",
       "      <td>fio2</td>\n",
       "      <td>53.126667</td>\n",
       "      <td>35.0000</td>\n",
       "    </tr>\n",
       "    <tr>\n",
       "      <th>4</th>\n",
       "      <td>200001</td>\n",
       "      <td>gcs</td>\n",
       "      <td>2.276667</td>\n",
       "      <td>4.0000</td>\n",
       "    </tr>\n",
       "    <tr>\n",
       "      <th>...</th>\n",
       "      <td>...</td>\n",
       "      <td>...</td>\n",
       "      <td>...</td>\n",
       "      <td>...</td>\n",
       "    </tr>\n",
       "    <tr>\n",
       "      <th>161143</th>\n",
       "      <td>299998</td>\n",
       "      <td>pco2</td>\n",
       "      <td>15.154167</td>\n",
       "      <td>4.9321</td>\n",
       "    </tr>\n",
       "    <tr>\n",
       "      <th>161144</th>\n",
       "      <td>299998</td>\n",
       "      <td>po2</td>\n",
       "      <td>15.154167</td>\n",
       "      <td>22.3944</td>\n",
       "    </tr>\n",
       "    <tr>\n",
       "      <th>161145</th>\n",
       "      <td>299998</td>\n",
       "      <td>resp</td>\n",
       "      <td>1.237500</td>\n",
       "      <td>12.0000</td>\n",
       "    </tr>\n",
       "    <tr>\n",
       "      <th>161146</th>\n",
       "      <td>299998</td>\n",
       "      <td>spo2</td>\n",
       "      <td>1.237500</td>\n",
       "      <td>100.0000</td>\n",
       "    </tr>\n",
       "    <tr>\n",
       "      <th>161147</th>\n",
       "      <td>299998</td>\n",
       "      <td>temp</td>\n",
       "      <td>1.420833</td>\n",
       "      <td>NaN</td>\n",
       "    </tr>\n",
       "  </tbody>\n",
       "</table>\n",
       "<p>161148 rows × 4 columns</p>\n",
       "</div>"
      ],
      "text/plain": [
       "        C.ICUSTAY_ID    VARIABLE   hrs_bRFD  C.VALUENUM\n",
       "0             200001          bp   0.110000    110.0000\n",
       "1             200001         bun   8.343333     20.7118\n",
       "2             200001  creatinine   8.343333    256.4180\n",
       "3             200001        fio2  53.126667     35.0000\n",
       "4             200001         gcs   2.276667      4.0000\n",
       "...              ...         ...        ...         ...\n",
       "161143        299998        pco2  15.154167      4.9321\n",
       "161144        299998         po2  15.154167     22.3944\n",
       "161145        299998        resp   1.237500     12.0000\n",
       "161146        299998        spo2   1.237500    100.0000\n",
       "161147        299998        temp   1.420833         NaN\n",
       "\n",
       "[161148 rows x 4 columns]"
      ]
     },
     "execution_count": 16,
     "metadata": {},
     "output_type": "execute_result"
    }
   ],
   "source": [
    "def agg_func(data, stay_id, var):\n",
    "    series = {}\n",
    "    series['C.ICUSTAY_ID'] = stay_id\n",
    "    series['VARIABLE'] = var\n",
    "    series['hrs_bRFD'] = data.loc[data['C.CHARTTIME'].idxmax()]['hrs_bRFD']\n",
    "    series['C.VALUENUM'] = data.loc[data['C.CHARTTIME'].idxmax()]['C.VALUENUM']\n",
    "    return pd.Series(series)\n",
    "\n",
    "final_values_grouped = all_data.groupby(by=['C.ICUSTAY_ID', 'VARIABLE'], as_index=False)\n",
    "final_values = []\n",
    "for (stay_id, var), group in tqdm(final_values_grouped):\n",
    "    final_values.append(agg_func(group, stay_id, var))\n",
    "\n",
    "final_values = pd.DataFrame(final_values)\n",
    "final_values"
   ]
  },
  {
   "cell_type": "code",
   "execution_count": 17,
   "metadata": {},
   "outputs": [],
   "source": [
    "final_values = final_values[final_values['hrs_bRFD']<=MAXIMUM_LOOKBACK]\n",
    "final_values = final_values[final_values['hrs_bRFD']>=HOURS_BEFORE_RFD]"
   ]
  },
  {
   "cell_type": "code",
   "execution_count": 18,
   "metadata": {},
   "outputs": [],
   "source": [
    "final_values = final_values.sort_values(ascending=True, by=['VARIABLE', 'C.ICUSTAY_ID'])"
   ]
  },
  {
   "cell_type": "raw",
   "metadata": {
    "collapsed": true
   },
   "source": [
    "final_values = all_data.groupby(by=['C.ICUSTAY_ID', 'VARIABLE'], as_index=False).aggregate( \n",
    "                                operations={\n",
    "                                            'hrs_bRFD':agg.ARGMAX('C.CHARTTIME', 'hrs_bRFD'),\n",
    "                                            'C.VALUENUM':agg.ARGMAX('C.CHARTTIME', 'C.VALUENUM')\n",
    "                                            })\n",
    "\n",
    "final_values = final_values[final_values['hrs_bRFD']<=MAXIMUM_LOOKBACK]\n",
    "final_values = final_values[final_values['hrs_bRFD']>HOURS_BEFORE_RFD]\n",
    "final_values = final_values.sort(ascending=True, sort_columns=['VARIABLE', 'C.ICUSTAY_ID'])"
   ]
  },
  {
   "cell_type": "code",
   "execution_count": 19,
   "metadata": {},
   "outputs": [],
   "source": [
    "vars_to_use_fv = [var for var in final_values['VARIABLE'].unique()]"
   ]
  },
  {
   "cell_type": "code",
   "execution_count": 20,
   "metadata": {},
   "outputs": [],
   "source": [
    "FM_filled = FM_filled.sort_values(ascending=True, by='ICUSTAY_ID')"
   ]
  },
  {
   "cell_type": "code",
   "execution_count": 21,
   "metadata": {},
   "outputs": [],
   "source": [
    "FM_filled_copy = FM_filled.copy()"
   ]
  },
  {
   "cell_type": "code",
   "execution_count": 22,
   "metadata": {},
   "outputs": [],
   "source": [
    "FM_filled = FM_filled_copy.copy()"
   ]
  },
  {
   "cell_type": "markdown",
   "metadata": {},
   "source": [
    "#### We now replace missing values (from four hour window) with final values from the extended window (where available):"
   ]
  },
  {
   "cell_type": "code",
   "execution_count": 23,
   "metadata": {},
   "outputs": [
    {
     "name": "stdout",
     "output_type": "stream",
     "text": [
      "airway\n",
      "bp\n",
      "bun\n",
      "creatinine\n",
      "fio2\n",
      "gcs\n",
      "haemoglobin\n",
      "hco3\n",
      "hr\n",
      "k\n",
      "na\n",
      "pain\n",
      "pco2\n",
      "po2\n",
      "resp\n",
      "spo2\n",
      "temp\n"
     ]
    }
   ],
   "source": [
    "def replace_missing_value(subset, variable, FM_filled, N, vtype='min'):\n",
    "    \n",
    "    if vtype=='min':\n",
    "        suffix = '_min'\n",
    "    elif vtype=='max':\n",
    "        suffix = '_max'\n",
    "    elif vtype=='single':\n",
    "        suffix = ''\n",
    "        \n",
    "    new_col = []\n",
    "    _subset_row_counter = 0\n",
    "    for iid,val, val_is_nan in zip(FM_filled['ICUSTAY_ID'], FM_filled[variable+suffix], FM_filled[variable+suffix].isna()):\n",
    "\n",
    "        if val_is_nan:\n",
    "            if _subset_row_counter<=N and subset.iloc[_subset_row_counter]['C.ICUSTAY_ID']==iid:\n",
    "                new_col.append(subset.iloc[_subset_row_counter]['C.VALUENUM'])\n",
    "                _subset_row_counter += 1\n",
    "            else:\n",
    "                new_col.append(None)\n",
    "        else:\n",
    "            new_col.append(val)\n",
    "\n",
    "    FM_filled[variable+suffix] = new_col\n",
    "    return FM_filled\n",
    "\n",
    "\n",
    "for variable in vars_to_use_fv:\n",
    "    print(variable)\n",
    "    _subset = final_values[final_values['VARIABLE']==variable]\n",
    "    _subset = _subset.reset_index()\n",
    "    _subset = _subset.sort_values(by='C.ICUSTAY_ID', ascending=True)\n",
    "    N = len(_subset)-1\n",
    "    \n",
    "    if variable not in single_feature_variables:\n",
    "        FM_filled = replace_missing_value(_subset, variable, FM_filled, N, vtype='min')\n",
    "        FM_filled = replace_missing_value(_subset, variable, FM_filled, N, vtype='max')\n",
    "    \n",
    "    else:\n",
    "        FM_filled = replace_missing_value(_subset, variable, FM_filled, N, vtype='single')"
   ]
  },
  {
   "cell_type": "code",
   "execution_count": 24,
   "metadata": {},
   "outputs": [
    {
     "data": {
      "text/plain": [
       "(11269, 11269)"
      ]
     },
     "execution_count": 24,
     "metadata": {},
     "output_type": "execute_result"
    }
   ],
   "source": [
    "len(FM_filled), len(FM_filled['ICUSTAY_ID'].unique())"
   ]
  },
  {
   "cell_type": "code",
   "execution_count": 25,
   "metadata": {},
   "outputs": [
    {
     "data": {
      "text/plain": [
       "142"
      ]
     },
     "execution_count": 25,
     "metadata": {},
     "output_type": "execute_result"
    }
   ],
   "source": [
    "stayids = FM_filled[FM_filled['temp_min'].isna()]['ICUSTAY_ID']\n",
    "len(final_values[(final_values['C.ICUSTAY_ID'].isin(stayids)) & (final_values['VARIABLE']=='temp')]['C.VALUENUM'])"
   ]
  },
  {
   "cell_type": "code",
   "execution_count": 26,
   "metadata": {},
   "outputs": [
    {
     "data": {
      "text/plain": [
       "(417, 142)"
      ]
     },
     "execution_count": 26,
     "metadata": {},
     "output_type": "execute_result"
    }
   ],
   "source": [
    "len(final_values[(final_values['VARIABLE']=='temp') & (final_values['hrs_bRFD']>4)]), sum(final_values[(final_values['VARIABLE']=='temp') & (final_values['hrs_bRFD']>4)]['C.VALUENUM'].isna())"
   ]
  },
  {
   "cell_type": "code",
   "execution_count": 27,
   "metadata": {},
   "outputs": [
    {
     "data": {
      "text/plain": [
       "(array([False]), 11269)"
      ]
     },
     "execution_count": 27,
     "metadata": {},
     "output_type": "execute_result"
    }
   ],
   "source": [
    "final_values[final_values['VARIABLE']=='temp']['VARIABLE'].isna().unique(), len(FM_filled)"
   ]
  },
  {
   "cell_type": "code",
   "execution_count": 28,
   "metadata": {},
   "outputs": [
    {
     "data": {
      "text/plain": [
       "32.76138888888889"
      ]
     },
     "execution_count": 28,
     "metadata": {},
     "output_type": "execute_result"
    }
   ],
   "source": [
    "final_values[final_values['VARIABLE']=='temp']['hrs_bRFD'].max()"
   ]
  },
  {
   "cell_type": "code",
   "execution_count": 29,
   "metadata": {},
   "outputs": [
    {
     "data": {
      "text/plain": [
       "(836, 561)"
      ]
     },
     "execution_count": 29,
     "metadata": {},
     "output_type": "execute_result"
    }
   ],
   "source": [
    "sum(FM['temp_min'].isna()), sum(FM_filled['temp_min'].isna()) "
   ]
  },
  {
   "cell_type": "markdown",
   "metadata": {},
   "source": [
    "#### We see that this has improved the missingness for most variables:"
   ]
  },
  {
   "cell_type": "code",
   "execution_count": 30,
   "metadata": {},
   "outputs": [
    {
     "name": "stdout",
     "output_type": "stream",
     "text": [
      "ICUSTAY_ID : 0.000\n",
      "bp_min : 0.000\n",
      "bp_max : 0.000\n",
      "gcs_min : 0.001\n",
      "gcs_max : 0.001\n",
      "hr_min : 0.000\n",
      "hr_max : 0.000\n",
      "resp_min : 0.001\n",
      "resp_max : 0.001\n",
      "spo2_min : 0.001\n",
      "spo2_max : 0.001\n",
      "temp_min : 0.050\n",
      "temp_max : 0.050\n",
      "pain : 0.169\n",
      "fio2 : 0.653\n",
      "na : 0.015\n",
      "k : 0.015\n",
      "hco3 : 0.016\n",
      "creatinine : 0.017\n",
      "bun : 0.017\n",
      "haemoglobin : 0.022\n",
      "po2 : 0.733\n",
      "pco2 : 0.733\n",
      "airway : 0.000\n"
     ]
    }
   ],
   "source": [
    "nrows = float(len(FM_filled))\n",
    "for col in FM_filled.columns:\n",
    "    print('%s : %.3f' %(col, sum(FM_filled[col].isna())/nrows))"
   ]
  },
  {
   "cell_type": "markdown",
   "metadata": {},
   "source": [
    "### discrepency in temperature missing values 0.05 vs 0.002"
   ]
  },
  {
   "cell_type": "code",
   "execution_count": 31,
   "metadata": {},
   "outputs": [],
   "source": [
    "missing_data_summary['mimic_36hr'] = missing_data_summary.apply(lambda row: sum(FM_filled[row['variable']].isna())/nrows if row['variable']!='ICUSTAY_ID' else 0.0, axis=1) "
   ]
  },
  {
   "cell_type": "code",
   "execution_count": 32,
   "metadata": {},
   "outputs": [
    {
     "data": {
      "text/html": [
       "<div>\n",
       "<style scoped>\n",
       "    .dataframe tbody tr th:only-of-type {\n",
       "        vertical-align: middle;\n",
       "    }\n",
       "\n",
       "    .dataframe tbody tr th {\n",
       "        vertical-align: top;\n",
       "    }\n",
       "\n",
       "    .dataframe thead th {\n",
       "        text-align: right;\n",
       "    }\n",
       "</style>\n",
       "<table border=\"1\" class=\"dataframe\">\n",
       "  <thead>\n",
       "    <tr style=\"text-align: right;\">\n",
       "      <th></th>\n",
       "      <th>variable</th>\n",
       "      <th>mimic_4hr</th>\n",
       "      <th>mimic_36hr</th>\n",
       "    </tr>\n",
       "  </thead>\n",
       "  <tbody>\n",
       "    <tr>\n",
       "      <th>0</th>\n",
       "      <td>ICUSTAY_ID</td>\n",
       "      <td>0.000000</td>\n",
       "      <td>0.000000</td>\n",
       "    </tr>\n",
       "    <tr>\n",
       "      <th>1</th>\n",
       "      <td>hr_min</td>\n",
       "      <td>0.001686</td>\n",
       "      <td>0.000355</td>\n",
       "    </tr>\n",
       "    <tr>\n",
       "      <th>2</th>\n",
       "      <td>hr_max</td>\n",
       "      <td>0.001686</td>\n",
       "      <td>0.000355</td>\n",
       "    </tr>\n",
       "    <tr>\n",
       "      <th>3</th>\n",
       "      <td>resp_min</td>\n",
       "      <td>0.006034</td>\n",
       "      <td>0.000799</td>\n",
       "    </tr>\n",
       "    <tr>\n",
       "      <th>4</th>\n",
       "      <td>resp_max</td>\n",
       "      <td>0.006034</td>\n",
       "      <td>0.000799</td>\n",
       "    </tr>\n",
       "    <tr>\n",
       "      <th>5</th>\n",
       "      <td>bp_min</td>\n",
       "      <td>0.006655</td>\n",
       "      <td>0.000355</td>\n",
       "    </tr>\n",
       "    <tr>\n",
       "      <th>6</th>\n",
       "      <td>bp_max</td>\n",
       "      <td>0.006655</td>\n",
       "      <td>0.000355</td>\n",
       "    </tr>\n",
       "    <tr>\n",
       "      <th>7</th>\n",
       "      <td>spo2_max</td>\n",
       "      <td>0.011270</td>\n",
       "      <td>0.000532</td>\n",
       "    </tr>\n",
       "    <tr>\n",
       "      <th>8</th>\n",
       "      <td>spo2_min</td>\n",
       "      <td>0.011270</td>\n",
       "      <td>0.000532</td>\n",
       "    </tr>\n",
       "    <tr>\n",
       "      <th>9</th>\n",
       "      <td>temp_max</td>\n",
       "      <td>0.074186</td>\n",
       "      <td>0.049783</td>\n",
       "    </tr>\n",
       "    <tr>\n",
       "      <th>10</th>\n",
       "      <td>temp_min</td>\n",
       "      <td>0.074186</td>\n",
       "      <td>0.049783</td>\n",
       "    </tr>\n",
       "    <tr>\n",
       "      <th>11</th>\n",
       "      <td>gcs_min</td>\n",
       "      <td>0.096548</td>\n",
       "      <td>0.000799</td>\n",
       "    </tr>\n",
       "    <tr>\n",
       "      <th>12</th>\n",
       "      <td>gcs_max</td>\n",
       "      <td>0.096548</td>\n",
       "      <td>0.000799</td>\n",
       "    </tr>\n",
       "    <tr>\n",
       "      <th>13</th>\n",
       "      <td>pain</td>\n",
       "      <td>0.461177</td>\n",
       "      <td>0.168604</td>\n",
       "    </tr>\n",
       "    <tr>\n",
       "      <th>14</th>\n",
       "      <td>k</td>\n",
       "      <td>0.874612</td>\n",
       "      <td>0.014819</td>\n",
       "    </tr>\n",
       "    <tr>\n",
       "      <th>15</th>\n",
       "      <td>na</td>\n",
       "      <td>0.874701</td>\n",
       "      <td>0.015263</td>\n",
       "    </tr>\n",
       "    <tr>\n",
       "      <th>16</th>\n",
       "      <td>bun</td>\n",
       "      <td>0.883752</td>\n",
       "      <td>0.016683</td>\n",
       "    </tr>\n",
       "    <tr>\n",
       "      <th>17</th>\n",
       "      <td>creatinine</td>\n",
       "      <td>0.884018</td>\n",
       "      <td>0.016683</td>\n",
       "    </tr>\n",
       "    <tr>\n",
       "      <th>18</th>\n",
       "      <td>hco3</td>\n",
       "      <td>0.884551</td>\n",
       "      <td>0.016417</td>\n",
       "    </tr>\n",
       "    <tr>\n",
       "      <th>19</th>\n",
       "      <td>haemoglobin</td>\n",
       "      <td>0.894312</td>\n",
       "      <td>0.021564</td>\n",
       "    </tr>\n",
       "    <tr>\n",
       "      <th>20</th>\n",
       "      <td>fio2</td>\n",
       "      <td>0.932115</td>\n",
       "      <td>0.652764</td>\n",
       "    </tr>\n",
       "    <tr>\n",
       "      <th>21</th>\n",
       "      <td>airway</td>\n",
       "      <td>0.984914</td>\n",
       "      <td>0.000000</td>\n",
       "    </tr>\n",
       "    <tr>\n",
       "      <th>22</th>\n",
       "      <td>pco2</td>\n",
       "      <td>0.987665</td>\n",
       "      <td>0.733251</td>\n",
       "    </tr>\n",
       "    <tr>\n",
       "      <th>23</th>\n",
       "      <td>po2</td>\n",
       "      <td>0.987665</td>\n",
       "      <td>0.733251</td>\n",
       "    </tr>\n",
       "  </tbody>\n",
       "</table>\n",
       "</div>"
      ],
      "text/plain": [
       "       variable  mimic_4hr  mimic_36hr\n",
       "0    ICUSTAY_ID   0.000000    0.000000\n",
       "1        hr_min   0.001686    0.000355\n",
       "2        hr_max   0.001686    0.000355\n",
       "3      resp_min   0.006034    0.000799\n",
       "4      resp_max   0.006034    0.000799\n",
       "5        bp_min   0.006655    0.000355\n",
       "6        bp_max   0.006655    0.000355\n",
       "7      spo2_max   0.011270    0.000532\n",
       "8      spo2_min   0.011270    0.000532\n",
       "9      temp_max   0.074186    0.049783\n",
       "10     temp_min   0.074186    0.049783\n",
       "11      gcs_min   0.096548    0.000799\n",
       "12      gcs_max   0.096548    0.000799\n",
       "13         pain   0.461177    0.168604\n",
       "14            k   0.874612    0.014819\n",
       "15           na   0.874701    0.015263\n",
       "16          bun   0.883752    0.016683\n",
       "17   creatinine   0.884018    0.016683\n",
       "18         hco3   0.884551    0.016417\n",
       "19  haemoglobin   0.894312    0.021564\n",
       "20         fio2   0.932115    0.652764\n",
       "21       airway   0.984914    0.000000\n",
       "22         pco2   0.987665    0.733251\n",
       "23          po2   0.987665    0.733251"
      ]
     },
     "execution_count": 32,
     "metadata": {},
     "output_type": "execute_result"
    }
   ],
   "source": [
    "missing_data_summary"
   ]
  },
  {
   "cell_type": "code",
   "execution_count": 33,
   "metadata": {},
   "outputs": [],
   "source": [
    "_sum_sub = summary[['C.ICUSTAY_ID', 'cohort', 'outcome']]\n",
    "_sum_sub = _sum_sub.rename(columns={'C.ICUSTAY_ID':'ICUSTAY_ID'})\n",
    "FM_filled2 = FM_filled.merge(how='inner', on='ICUSTAY_ID', right=_sum_sub)"
   ]
  },
  {
   "cell_type": "markdown",
   "metadata": {},
   "source": [
    "#### We now have a feature matrix. However, the class sizes are highly imbalanced. We decided to balance the class sizes by creating more instances of the negative class. We do this by sampling the patients at integer multiples of 24 hours prior to their CALLOUT."
   ]
  },
  {
   "cell_type": "code",
   "execution_count": 34,
   "metadata": {},
   "outputs": [],
   "source": [
    "all_data = pd.read_pickle(DATA_PATH)"
   ]
  },
  {
   "cell_type": "markdown",
   "metadata": {},
   "source": [
    "We look at how many stays are available at Xi days prior to callout, and how many extra samples would be required to balance the class sizes:"
   ]
  },
  {
   "cell_type": "code",
   "execution_count": 35,
   "metadata": {},
   "outputs": [],
   "source": [
    "_stay_summary = all_data.groupby(by='C.ICUSTAY_ID', as_index=False).aggregate(\n",
    "                                                                            outcome=('outcome', 'min'),\n",
    "                                                                            RFD=('RFD', 'min'),\n",
    "                                                                            intime=('II.INTIME','min'))\n",
    "_stay_summary['len'] = (_stay_summary['RFD'] - _stay_summary['intime']).apply(lambda row: row.total_seconds()/(60*60))"
   ]
  },
  {
   "cell_type": "code",
   "execution_count": 36,
   "metadata": {},
   "outputs": [
    {
     "data": {
      "text/plain": [
       "0        64.173333\n",
       "1        11.731944\n",
       "2        18.874722\n",
       "3        71.721389\n",
       "4        21.363889\n",
       "           ...    \n",
       "11283     9.834444\n",
       "11284    17.901667\n",
       "11285    44.765000\n",
       "11286    31.862222\n",
       "11287    24.443056\n",
       "Name: len, Length: 11288, dtype: float64"
      ]
     },
     "execution_count": 36,
     "metadata": {},
     "output_type": "execute_result"
    }
   ],
   "source": [
    "_stay_summary['len']"
   ]
  },
  {
   "cell_type": "code",
   "execution_count": 37,
   "metadata": {},
   "outputs": [],
   "source": [
    "fx = lambda x:24*x + 4"
   ]
  },
  {
   "cell_type": "code",
   "execution_count": 38,
   "metadata": {},
   "outputs": [],
   "source": [
    "_stays = []\n",
    "for i in range(10):\n",
    "    _stays.append(sum(_stay_summary['len'] >= fx(i)))"
   ]
  },
  {
   "cell_type": "code",
   "execution_count": 39,
   "metadata": {},
   "outputs": [
    {
     "name": "stdout",
     "output_type": "stream",
     "text": [
      "9640\n",
      "1629\n",
      "We would need at least 8011 extra samples to balance the classes.\n"
     ]
    }
   ],
   "source": [
    "num_rfd0 = sum(FM_filled2['outcome'])\n",
    "num_nrfd0 = len(FM_filled2['outcome']) - num_rfd0\n",
    "\n",
    "print( num_rfd0)\n",
    "print( num_nrfd0)\n",
    "print( \"We would need at least %d extra samples to balance the classes.\" %(num_rfd0 - num_nrfd0))"
   ]
  },
  {
   "cell_type": "code",
   "execution_count": 40,
   "metadata": {},
   "outputs": [
    {
     "data": {
      "image/png": "[encoded data removed]",
      "text/plain": [
       "<Figure size 432x288 with 1 Axes>"
      ]
     },
     "metadata": {
      "needs_background": "light"
     },
     "output_type": "display_data"
    }
   ],
   "source": [
    "fsa = 15\n",
    "\n",
    "plt.bar(range(10), _stays, color='r', label='NRFD')\n",
    "ax = plt.gca()\n",
    "ax.bar(0,num_rfd0, color='g', label='RFD')\n",
    "plt.legend(fontsize=fsa)\n",
    "plt.xlabel('Xi days', fontsize=fsa)\n",
    "plt.ylabel('number of patients', fontsize=fsa)\n",
    "plt.xticks(fontsize=fsa-2)\n",
    "plt.yticks(fontsize=fsa-2)\n",
    "\n",
    "plt.tight_layout()\n",
    "plt.savefig('mimic_negex_bars.png')"
   ]
  },
  {
   "cell_type": "markdown",
   "metadata": {
    "collapsed": true
   },
   "source": [
    "#### We determine that sampling at Xi in (3-8) will provide more than enough extra NRFD instances."
   ]
  },
  {
   "cell_type": "code",
   "execution_count": 41,
   "metadata": {},
   "outputs": [],
   "source": [
    "def sample_at_xi(_all_data, _summary, xi=3, h=4):\n",
    "    ## selects stays to include in negative extras\n",
    "    ## xi is integer number of days before RFD flag\n",
    "    ## h is sample window length (4 hours is NLD standard)\n",
    "    ##      new: only stays that are at least (xi+1)*24 hours long are included\n",
    "    ##           so that sample point does not fall within 24 hours of ICU admission (thanks to reviewer 2) \n",
    "    \n",
    "    sids = _summary[_summary['len']>= fx(xi + 1)]['C.ICUSTAY_ID']  ## added +1 to filter out sample points that would be witin 24 hours of admission to ICU\n",
    "    sub_data = _all_data[_all_data['C.ICUSTAY_ID'].isin(sids)]\n",
    "    \n",
    "    sub_data = sub_data[sub_data['hrs_bRFD']>= 24*xi]\n",
    "    sub_data = sub_data[sub_data['hrs_bRFD']<= 24*xi + h]\n",
    "    return sub_data"
   ]
  },
  {
   "cell_type": "code",
   "execution_count": 42,
   "metadata": {},
   "outputs": [
    {
     "name": "stdout",
     "output_type": "stream",
     "text": [
      "Xi = 3, ns = 1776\n",
      "Xi = 4, ns = 1317\n",
      "Xi = 5, ns = 1035\n",
      "Xi = 6, ns = 845\n",
      "Xi = 7, ns = 675\n",
      "Xi = 8, ns = 537\n"
     ]
    }
   ],
   "source": [
    "Xi_range = [3,4,5,6,7,8]\n",
    "H = 4\n",
    "fx = lambda x:24*x + H\n",
    "\n",
    "for Xi in Xi_range:\n",
    "    \n",
    "    sub_data = sample_at_xi(all_data, _stay_summary, Xi, H)\n",
    "    print( \"Xi = %d, ns = %d\" %(Xi, len(sub_data['C.ICUSTAY_ID'].unique())))"
   ]
  },
  {
   "cell_type": "markdown",
   "metadata": {},
   "source": [
    "### Original division\n",
    "Xi = 3, ns = 1774\n",
    "\n",
    "Xi = 4, ns = 1315\n",
    "\n",
    "Xi = 5, ns = 1033\n",
    "\n",
    "Xi = 6, ns = 844\n",
    "\n",
    "Xi = 7, ns = 674\n",
    "\n",
    "Xi = 8, ns = 537"
   ]
  },
  {
   "cell_type": "code",
   "execution_count": 43,
   "metadata": {},
   "outputs": [
    {
     "name": "stdout",
     "output_type": "stream",
     "text": [
      "The lowest ICUSTAY_ID in the dataset is: 200001.\n"
     ]
    }
   ],
   "source": [
    "print(\"The lowest ICUSTAY_ID in the dataset is: %d.\" %min(all_data['C.ICUSTAY_ID']))"
   ]
  },
  {
   "cell_type": "markdown",
   "metadata": {},
   "source": [
    "#### We create a one-to-one ID mapping so we can unqileuy identify which patient each new sample comes from:"
   ]
  },
  {
   "cell_type": "code",
   "execution_count": 44,
   "metadata": {},
   "outputs": [
    {
     "name": "stderr",
     "output_type": "stream",
     "text": [
      "/var/folders/0b/yktjm4xd46bglcgmv_ltqv900000gn/T/ipykernel_25221/3750903148.py:11: FutureWarning: The frame.append method is deprecated and will be removed from pandas in a future version. Use pandas.concat instead.\n",
      "  id_mapping = id_mapping.append(_temp_id_mapping)\n",
      "/var/folders/0b/yktjm4xd46bglcgmv_ltqv900000gn/T/ipykernel_25221/3750903148.py:11: FutureWarning: The frame.append method is deprecated and will be removed from pandas in a future version. Use pandas.concat instead.\n",
      "  id_mapping = id_mapping.append(_temp_id_mapping)\n",
      "/var/folders/0b/yktjm4xd46bglcgmv_ltqv900000gn/T/ipykernel_25221/3750903148.py:11: FutureWarning: The frame.append method is deprecated and will be removed from pandas in a future version. Use pandas.concat instead.\n",
      "  id_mapping = id_mapping.append(_temp_id_mapping)\n",
      "/var/folders/0b/yktjm4xd46bglcgmv_ltqv900000gn/T/ipykernel_25221/3750903148.py:11: FutureWarning: The frame.append method is deprecated and will be removed from pandas in a future version. Use pandas.concat instead.\n",
      "  id_mapping = id_mapping.append(_temp_id_mapping)\n",
      "/var/folders/0b/yktjm4xd46bglcgmv_ltqv900000gn/T/ipykernel_25221/3750903148.py:11: FutureWarning: The frame.append method is deprecated and will be removed from pandas in a future version. Use pandas.concat instead.\n",
      "  id_mapping = id_mapping.append(_temp_id_mapping)\n",
      "/var/folders/0b/yktjm4xd46bglcgmv_ltqv900000gn/T/ipykernel_25221/3750903148.py:11: FutureWarning: The frame.append method is deprecated and will be removed from pandas in a future version. Use pandas.concat instead.\n",
      "  id_mapping = id_mapping.append(_temp_id_mapping)\n"
     ]
    }
   ],
   "source": [
    "id_mapping = pd.DataFrame()\n",
    "largest_id = max(all_data['C.ICUSTAY_ID'])\n",
    "\n",
    "for Xi in Xi_range:\n",
    "    sub_data = sample_at_xi(all_data, _stay_summary, Xi, H)\n",
    "    \n",
    "    L = len(sub_data['C.ICUSTAY_ID'].unique())\n",
    "    _temp_id_mapping = pd.DataFrame()\n",
    "    _temp_id_mapping['Xi'] = Xi * np.ones(L)\n",
    "    _temp_id_mapping['ICUSTAY_ID'] = sub_data['C.ICUSTAY_ID'].unique()\n",
    "    id_mapping = id_mapping.append(_temp_id_mapping)\n",
    "\n",
    "id_mapping['new_ID'] = np.arange(len(id_mapping))"
   ]
  },
  {
   "cell_type": "code",
   "execution_count": 45,
   "metadata": {},
   "outputs": [
    {
     "data": {
      "text/html": [
       "<div>\n",
       "<style scoped>\n",
       "    .dataframe tbody tr th:only-of-type {\n",
       "        vertical-align: middle;\n",
       "    }\n",
       "\n",
       "    .dataframe tbody tr th {\n",
       "        vertical-align: top;\n",
       "    }\n",
       "\n",
       "    .dataframe thead th {\n",
       "        text-align: right;\n",
       "    }\n",
       "</style>\n",
       "<table border=\"1\" class=\"dataframe\">\n",
       "  <thead>\n",
       "    <tr style=\"text-align: right;\">\n",
       "      <th></th>\n",
       "      <th>Xi</th>\n",
       "      <th>ICUSTAY_ID</th>\n",
       "      <th>new_ID</th>\n",
       "    </tr>\n",
       "  </thead>\n",
       "  <tbody>\n",
       "    <tr>\n",
       "      <th>0</th>\n",
       "      <td>3.0</td>\n",
       "      <td>281232</td>\n",
       "      <td>0</td>\n",
       "    </tr>\n",
       "    <tr>\n",
       "      <th>1</th>\n",
       "      <td>3.0</td>\n",
       "      <td>237570</td>\n",
       "      <td>1</td>\n",
       "    </tr>\n",
       "    <tr>\n",
       "      <th>2</th>\n",
       "      <td>3.0</td>\n",
       "      <td>250529</td>\n",
       "      <td>2</td>\n",
       "    </tr>\n",
       "    <tr>\n",
       "      <th>3</th>\n",
       "      <td>3.0</td>\n",
       "      <td>281513</td>\n",
       "      <td>3</td>\n",
       "    </tr>\n",
       "    <tr>\n",
       "      <th>4</th>\n",
       "      <td>3.0</td>\n",
       "      <td>262259</td>\n",
       "      <td>4</td>\n",
       "    </tr>\n",
       "    <tr>\n",
       "      <th>...</th>\n",
       "      <td>...</td>\n",
       "      <td>...</td>\n",
       "      <td>...</td>\n",
       "    </tr>\n",
       "    <tr>\n",
       "      <th>532</th>\n",
       "      <td>8.0</td>\n",
       "      <td>237729</td>\n",
       "      <td>6180</td>\n",
       "    </tr>\n",
       "    <tr>\n",
       "      <th>533</th>\n",
       "      <td>8.0</td>\n",
       "      <td>229184</td>\n",
       "      <td>6181</td>\n",
       "    </tr>\n",
       "    <tr>\n",
       "      <th>534</th>\n",
       "      <td>8.0</td>\n",
       "      <td>268051</td>\n",
       "      <td>6182</td>\n",
       "    </tr>\n",
       "    <tr>\n",
       "      <th>535</th>\n",
       "      <td>8.0</td>\n",
       "      <td>293763</td>\n",
       "      <td>6183</td>\n",
       "    </tr>\n",
       "    <tr>\n",
       "      <th>536</th>\n",
       "      <td>8.0</td>\n",
       "      <td>227032</td>\n",
       "      <td>6184</td>\n",
       "    </tr>\n",
       "  </tbody>\n",
       "</table>\n",
       "<p>6185 rows × 3 columns</p>\n",
       "</div>"
      ],
      "text/plain": [
       "      Xi  ICUSTAY_ID  new_ID\n",
       "0    3.0      281232       0\n",
       "1    3.0      237570       1\n",
       "2    3.0      250529       2\n",
       "3    3.0      281513       3\n",
       "4    3.0      262259       4\n",
       "..   ...         ...     ...\n",
       "532  8.0      237729    6180\n",
       "533  8.0      229184    6181\n",
       "534  8.0      268051    6182\n",
       "535  8.0      293763    6183\n",
       "536  8.0      227032    6184\n",
       "\n",
       "[6185 rows x 3 columns]"
      ]
     },
     "execution_count": 45,
     "metadata": {},
     "output_type": "execute_result"
    }
   ],
   "source": [
    "id_mapping"
   ]
  },
  {
   "cell_type": "code",
   "execution_count": 46,
   "metadata": {},
   "outputs": [],
   "source": [
    "if SAVE_FLAG:\n",
    "    id_mapping.to_pickle('mimic_negative_extras_id_mapping2.pickle')"
   ]
  },
  {
   "cell_type": "markdown",
   "metadata": {},
   "source": [
    "#### Get features for the new samples at Xi = [3,4,5,6,7,8]:"
   ]
  },
  {
   "cell_type": "code",
   "execution_count": 47,
   "metadata": {},
   "outputs": [],
   "source": [
    "def get_Xi_features(Xi, all_data, _stay_summary, id_mapping, H=4):\n",
    "    \n",
    "    sub_data = sample_at_xi(all_data, _stay_summary, Xi, H)\n",
    "    ## now get features from subset of data:\n",
    "    features = sub_data.groupby(by=['C.ICUSTAY_ID', 'VARIABLE'], as_index=False).aggregate( \n",
    "                                            min_v=('C.VALUENUM', 'min'),\n",
    "                                            max_v=('C.VALUENUM', 'max'),\n",
    "                                            mean=('C.VALUENUM', 'mean'),\n",
    "                                            var=('C.VALUENUM', 'var'),\n",
    "                                            times=('C.CHARTTIME', list),\n",
    "                                            values=('C.VALUENUM', list),\n",
    "                                            count=('C.VALUENUM','count'),\n",
    "                                            cohort=('cohort', 'min'),\n",
    "                                            outcome=('outcome', 'min')\n",
    "                                            )\n",
    "\n",
    "    ids = id_mapping[id_mapping['Xi']==float(Xi)]\n",
    "    features = features.rename(columns={'C.ICUSTAY_ID': 'ICUSTAY_ID'})\n",
    "    print(ids.columns)\n",
    "    print(features.columns)\n",
    "    features = features.merge(right=ids, on='ICUSTAY_ID', how='inner')\n",
    "\n",
    "    features = features.drop(columns='ICUSTAY_ID')\n",
    "    features = features.rename(columns={'new_ID': 'C.ICUSTAY_ID'})\n",
    "\n",
    "    features = features.sort_values(ascending=True, by='C.ICUSTAY_ID')\n",
    "\n",
    "    _temp_FM = _split_features_to_columns(features)\n",
    "    return _temp_FM\n"
   ]
  },
  {
   "cell_type": "code",
   "execution_count": 48,
   "metadata": {
    "scrolled": true
   },
   "outputs": [
    {
     "name": "stdout",
     "output_type": "stream",
     "text": [
      "Index(['Xi', 'ICUSTAY_ID', 'new_ID'], dtype='object')\n",
      "Index(['ICUSTAY_ID', 'VARIABLE', 'min_v', 'max_v', 'mean', 'var', 'times',\n",
      "       'values', 'count', 'cohort', 'outcome'],\n",
      "      dtype='object')\n",
      "temp\n",
      "spo2\n",
      "resp\n",
      "hr\n",
      "gcs\n",
      "bp\n",
      "fio2\n",
      "airway\n",
      "pain\n",
      "k\n",
      "na\n",
      "hco3\n",
      "bun\n",
      "creatinine\n",
      "pco2\n",
      "po2\n",
      "haemoglobin\n",
      "4\n",
      "Index(['Xi', 'ICUSTAY_ID', 'new_ID'], dtype='object')\n",
      "Index(['ICUSTAY_ID', 'VARIABLE', 'min_v', 'max_v', 'mean', 'var', 'times',\n",
      "       'values', 'count', 'cohort', 'outcome'],\n",
      "      dtype='object')\n",
      "pain\n",
      "spo2\n",
      "resp\n",
      "temp\n",
      "hr\n",
      "gcs\n",
      "fio2\n",
      "airway\n",
      "bp\n",
      "po2\n",
      "pco2\n",
      "na\n",
      "k\n",
      "hco3\n",
      "haemoglobin\n",
      "creatinine\n",
      "bun\n",
      "5\n"
     ]
    },
    {
     "name": "stderr",
     "output_type": "stream",
     "text": [
      "/var/folders/0b/yktjm4xd46bglcgmv_ltqv900000gn/T/ipykernel_25221/1860856144.py:6: FutureWarning: The frame.append method is deprecated and will be removed from pandas in a future version. Use pandas.concat instead.\n",
      "  _FM_negative = _FM_negative.append(_temp_FM)\n"
     ]
    },
    {
     "name": "stdout",
     "output_type": "stream",
     "text": [
      "Index(['Xi', 'ICUSTAY_ID', 'new_ID'], dtype='object')\n",
      "Index(['ICUSTAY_ID', 'VARIABLE', 'min_v', 'max_v', 'mean', 'var', 'times',\n",
      "       'values', 'count', 'cohort', 'outcome'],\n",
      "      dtype='object')\n",
      "fio2\n",
      "gcs\n",
      "hr\n",
      "spo2\n",
      "temp\n",
      "resp\n",
      "airway\n",
      "bp\n",
      "po2\n",
      "pco2\n",
      "k\n",
      "pain\n",
      "na\n",
      "bun\n",
      "creatinine\n",
      "haemoglobin\n",
      "hco3\n",
      "6\n"
     ]
    },
    {
     "name": "stderr",
     "output_type": "stream",
     "text": [
      "/var/folders/0b/yktjm4xd46bglcgmv_ltqv900000gn/T/ipykernel_25221/1860856144.py:6: FutureWarning: The frame.append method is deprecated and will be removed from pandas in a future version. Use pandas.concat instead.\n",
      "  _FM_negative = _FM_negative.append(_temp_FM)\n"
     ]
    },
    {
     "name": "stdout",
     "output_type": "stream",
     "text": [
      "Index(['Xi', 'ICUSTAY_ID', 'new_ID'], dtype='object')\n",
      "Index(['ICUSTAY_ID', 'VARIABLE', 'min_v', 'max_v', 'mean', 'var', 'times',\n",
      "       'values', 'count', 'cohort', 'outcome'],\n",
      "      dtype='object')\n",
      "resp\n",
      "hco3\n",
      "haemoglobin\n",
      "gcs\n",
      "fio2\n",
      "creatinine\n",
      "bp\n",
      "bun\n",
      "hr\n",
      "k\n",
      "na\n",
      "pain\n",
      "temp\n",
      "spo2\n",
      "po2\n",
      "airway\n",
      "pco2\n",
      "7\n"
     ]
    },
    {
     "name": "stderr",
     "output_type": "stream",
     "text": [
      "/var/folders/0b/yktjm4xd46bglcgmv_ltqv900000gn/T/ipykernel_25221/1860856144.py:6: FutureWarning: The frame.append method is deprecated and will be removed from pandas in a future version. Use pandas.concat instead.\n",
      "  _FM_negative = _FM_negative.append(_temp_FM)\n"
     ]
    },
    {
     "name": "stdout",
     "output_type": "stream",
     "text": [
      "Index(['Xi', 'ICUSTAY_ID', 'new_ID'], dtype='object')\n",
      "Index(['ICUSTAY_ID', 'VARIABLE', 'min_v', 'max_v', 'mean', 'var', 'times',\n",
      "       'values', 'count', 'cohort', 'outcome'],\n",
      "      dtype='object')\n",
      "temp\n",
      "spo2\n",
      "resp\n",
      "pain\n",
      "hr\n",
      "gcs\n",
      "fio2\n",
      "bp\n",
      "hco3\n",
      "k\n",
      "na\n",
      "po2\n",
      "creatinine\n",
      "airway\n",
      "pco2\n",
      "bun\n",
      "haemoglobin\n",
      "8\n"
     ]
    },
    {
     "name": "stderr",
     "output_type": "stream",
     "text": [
      "/var/folders/0b/yktjm4xd46bglcgmv_ltqv900000gn/T/ipykernel_25221/1860856144.py:6: FutureWarning: The frame.append method is deprecated and will be removed from pandas in a future version. Use pandas.concat instead.\n",
      "  _FM_negative = _FM_negative.append(_temp_FM)\n"
     ]
    },
    {
     "name": "stdout",
     "output_type": "stream",
     "text": [
      "Index(['Xi', 'ICUSTAY_ID', 'new_ID'], dtype='object')\n",
      "Index(['ICUSTAY_ID', 'VARIABLE', 'min_v', 'max_v', 'mean', 'var', 'times',\n",
      "       'values', 'count', 'cohort', 'outcome'],\n",
      "      dtype='object')\n",
      "bp\n",
      "spo2\n",
      "fio2\n",
      "gcs\n",
      "hr\n",
      "temp\n",
      "resp\n",
      "airway\n",
      "pain\n",
      "k\n",
      "na\n",
      "hco3\n",
      "haemoglobin\n",
      "creatinine\n",
      "bun\n",
      "pco2\n",
      "po2\n"
     ]
    },
    {
     "name": "stderr",
     "output_type": "stream",
     "text": [
      "/var/folders/0b/yktjm4xd46bglcgmv_ltqv900000gn/T/ipykernel_25221/1860856144.py:6: FutureWarning: The frame.append method is deprecated and will be removed from pandas in a future version. Use pandas.concat instead.\n",
      "  _FM_negative = _FM_negative.append(_temp_FM)\n"
     ]
    }
   ],
   "source": [
    "_FM_negative = get_Xi_features(Xi_range[0], all_data, _stay_summary, id_mapping)\n",
    "\n",
    "for Xi in Xi_range[1:]:\n",
    "    print( Xi)\n",
    "    _temp_FM = get_Xi_features(Xi, all_data, _stay_summary, id_mapping)\n",
    "    _FM_negative = _FM_negative.append(_temp_FM)"
   ]
  },
  {
   "cell_type": "code",
   "execution_count": 47,
   "metadata": {},
   "outputs": [],
   "source": [
    "all_data.drop??"
   ]
  },
  {
   "cell_type": "markdown",
   "metadata": {},
   "source": [
    "#### How much missing data?"
   ]
  },
  {
   "cell_type": "code",
   "execution_count": 49,
   "metadata": {},
   "outputs": [
    {
     "data": {
      "text/html": [
       "<div>\n",
       "<style scoped>\n",
       "    .dataframe tbody tr th:only-of-type {\n",
       "        vertical-align: middle;\n",
       "    }\n",
       "\n",
       "    .dataframe tbody tr th {\n",
       "        vertical-align: top;\n",
       "    }\n",
       "\n",
       "    .dataframe thead th {\n",
       "        text-align: right;\n",
       "    }\n",
       "</style>\n",
       "<table border=\"1\" class=\"dataframe\">\n",
       "  <thead>\n",
       "    <tr style=\"text-align: right;\">\n",
       "      <th></th>\n",
       "      <th>variable</th>\n",
       "      <th>fraction missing</th>\n",
       "    </tr>\n",
       "  </thead>\n",
       "  <tbody>\n",
       "    <tr>\n",
       "      <th>0</th>\n",
       "      <td>ICUSTAY_ID</td>\n",
       "      <td>0.000000</td>\n",
       "    </tr>\n",
       "    <tr>\n",
       "      <th>8</th>\n",
       "      <td>hr_max</td>\n",
       "      <td>0.001940</td>\n",
       "    </tr>\n",
       "    <tr>\n",
       "      <th>7</th>\n",
       "      <td>hr_min</td>\n",
       "      <td>0.001940</td>\n",
       "    </tr>\n",
       "    <tr>\n",
       "      <th>12</th>\n",
       "      <td>bp_max</td>\n",
       "      <td>0.003072</td>\n",
       "    </tr>\n",
       "    <tr>\n",
       "      <th>11</th>\n",
       "      <td>bp_min</td>\n",
       "      <td>0.003072</td>\n",
       "    </tr>\n",
       "    <tr>\n",
       "      <th>3</th>\n",
       "      <td>spo2_min</td>\n",
       "      <td>0.004204</td>\n",
       "    </tr>\n",
       "    <tr>\n",
       "      <th>4</th>\n",
       "      <td>spo2_max</td>\n",
       "      <td>0.004204</td>\n",
       "    </tr>\n",
       "    <tr>\n",
       "      <th>5</th>\n",
       "      <td>resp_min</td>\n",
       "      <td>0.004689</td>\n",
       "    </tr>\n",
       "    <tr>\n",
       "      <th>6</th>\n",
       "      <td>resp_max</td>\n",
       "      <td>0.004689</td>\n",
       "    </tr>\n",
       "    <tr>\n",
       "      <th>2</th>\n",
       "      <td>temp_max</td>\n",
       "      <td>0.049636</td>\n",
       "    </tr>\n",
       "    <tr>\n",
       "      <th>1</th>\n",
       "      <td>temp_min</td>\n",
       "      <td>0.049636</td>\n",
       "    </tr>\n",
       "    <tr>\n",
       "      <th>9</th>\n",
       "      <td>gcs_min</td>\n",
       "      <td>0.065966</td>\n",
       "    </tr>\n",
       "    <tr>\n",
       "      <th>10</th>\n",
       "      <td>gcs_max</td>\n",
       "      <td>0.065966</td>\n",
       "    </tr>\n",
       "    <tr>\n",
       "      <th>13</th>\n",
       "      <td>fio2</td>\n",
       "      <td>0.331932</td>\n",
       "    </tr>\n",
       "    <tr>\n",
       "      <th>15</th>\n",
       "      <td>pain</td>\n",
       "      <td>0.461762</td>\n",
       "    </tr>\n",
       "    <tr>\n",
       "      <th>14</th>\n",
       "      <td>airway</td>\n",
       "      <td>0.461762</td>\n",
       "    </tr>\n",
       "    <tr>\n",
       "      <th>21</th>\n",
       "      <td>pco2</td>\n",
       "      <td>0.805497</td>\n",
       "    </tr>\n",
       "    <tr>\n",
       "      <th>22</th>\n",
       "      <td>po2</td>\n",
       "      <td>0.805497</td>\n",
       "    </tr>\n",
       "    <tr>\n",
       "      <th>16</th>\n",
       "      <td>k</td>\n",
       "      <td>0.841229</td>\n",
       "    </tr>\n",
       "    <tr>\n",
       "      <th>17</th>\n",
       "      <td>na</td>\n",
       "      <td>0.854325</td>\n",
       "    </tr>\n",
       "    <tr>\n",
       "      <th>18</th>\n",
       "      <td>hco3</td>\n",
       "      <td>0.877607</td>\n",
       "    </tr>\n",
       "    <tr>\n",
       "      <th>20</th>\n",
       "      <td>creatinine</td>\n",
       "      <td>0.886338</td>\n",
       "    </tr>\n",
       "    <tr>\n",
       "      <th>19</th>\n",
       "      <td>bun</td>\n",
       "      <td>0.886823</td>\n",
       "    </tr>\n",
       "    <tr>\n",
       "      <th>23</th>\n",
       "      <td>haemoglobin</td>\n",
       "      <td>0.909458</td>\n",
       "    </tr>\n",
       "  </tbody>\n",
       "</table>\n",
       "</div>"
      ],
      "text/plain": [
       "       variable  fraction missing\n",
       "0    ICUSTAY_ID          0.000000\n",
       "8        hr_max          0.001940\n",
       "7        hr_min          0.001940\n",
       "12       bp_max          0.003072\n",
       "11       bp_min          0.003072\n",
       "3      spo2_min          0.004204\n",
       "4      spo2_max          0.004204\n",
       "5      resp_min          0.004689\n",
       "6      resp_max          0.004689\n",
       "2      temp_max          0.049636\n",
       "1      temp_min          0.049636\n",
       "9       gcs_min          0.065966\n",
       "10      gcs_max          0.065966\n",
       "13         fio2          0.331932\n",
       "15         pain          0.461762\n",
       "14       airway          0.461762\n",
       "21         pco2          0.805497\n",
       "22          po2          0.805497\n",
       "16            k          0.841229\n",
       "17           na          0.854325\n",
       "18         hco3          0.877607\n",
       "20   creatinine          0.886338\n",
       "19          bun          0.886823\n",
       "23  haemoglobin          0.909458"
      ]
     },
     "execution_count": 49,
     "metadata": {},
     "output_type": "execute_result"
    }
   ],
   "source": [
    "nrows = float(len(_FM_negative))\n",
    "\n",
    "missing_data = pd.DataFrame()\n",
    "vname = []\n",
    "miss_freq = []\n",
    "\n",
    "for col in _FM_negative.columns:\n",
    "    vname.append(col)\n",
    "    miss_freq.append(sum(_FM_negative[col].isna())/nrows)\n",
    "        \n",
    "missing_data['variable'] = vname\n",
    "missing_data['fraction missing'] = miss_freq\n",
    "\n",
    "missing_data = missing_data.sort_values(by='fraction missing', ascending=True)\n",
    "missing_data.head(25)"
   ]
  },
  {
   "cell_type": "code",
   "execution_count": 50,
   "metadata": {},
   "outputs": [],
   "source": [
    "missing_data_summary = missing_data_summary.merge(how='inner', on='variable', right=missing_data)\n",
    "missing_data_summary = missing_data_summary.rename(columns={'fraction missing':'mimic_negex_4hour'})"
   ]
  },
  {
   "cell_type": "markdown",
   "metadata": {},
   "source": [
    "#### Fill the missing data:"
   ]
  },
  {
   "cell_type": "code",
   "execution_count": 51,
   "metadata": {},
   "outputs": [],
   "source": [
    "_FM_negative_filled = _FM_negative.copy()\n",
    "_FM_negative_filled['airway'] = _FM_negative_filled['airway'].fillna(value=0.0)"
   ]
  },
  {
   "cell_type": "code",
   "execution_count": 52,
   "metadata": {},
   "outputs": [],
   "source": [
    "def fill_with_final_values(FM_filled, Xi, new_icustays):\n",
    "    \n",
    "    all_data = pd.read_pickle(DATA_PATH)\n",
    "    all_data = all_data[all_data['hrs_bRFD'] >= 24*Xi]\n",
    "    \n",
    "    new_icustays = new_icustays.rename(columns={'ICUSTAY_ID':'C.ICUSTAY_ID'})\n",
    "    all_data = all_data.merge(right=new_icustays, on='C.ICUSTAY_ID', how='inner')\n",
    "    all_data = all_data.drop(columns='C.ICUSTAY_ID')\n",
    "    all_data = all_data.rename(columns={'new_ID':'C.ICUSTAY_ID'})\n",
    "    \n",
    "    final_values_grouped = all_data.groupby(by=['C.ICUSTAY_ID', 'VARIABLE'], as_index=False)\n",
    "    final_values = []\n",
    "    for (stay_id, var), group in tqdm(final_values_grouped):\n",
    "        final_values.append(agg_func(group, stay_id, var))\n",
    "    final_values = pd.DataFrame(final_values)\n",
    "\n",
    "    final_values = final_values[final_values['hrs_bRFD'] <= MAXIMUM_LOOKBACK + (24*Xi)]\n",
    "    final_values = final_values[final_values['hrs_bRFD'] > H + (24*Xi)]\n",
    "    \n",
    "    final_values = final_values.sort_values(ascending=True, by=['VARIABLE', 'C.ICUSTAY_ID'])\n",
    "    vars_to_use_fv = [var for var in final_values['VARIABLE'].unique()] \n",
    "    FM_filled = FM_filled.sort_values(ascending=True, by='ICUSTAY_ID')\n",
    "    \n",
    "    for variable in vars_to_use_fv:\n",
    "        print( variable)\n",
    "\n",
    "        _subset = final_values[final_values['VARIABLE']==variable]\n",
    "        _subset = _subset.sort_values(by='C.ICUSTAY_ID', ascending=True)\n",
    "        N = len(_subset)-1\n",
    "        \n",
    "        if variable not in single_feature_variables:\n",
    "            FM_filled = replace_missing_value(_subset, variable, FM_filled, N, vtype='min')\n",
    "            FM_filled = replace_missing_value(_subset, variable, FM_filled, N, vtype='max')\n",
    "        else:\n",
    "            FM_filled = replace_missing_value(_subset, variable, FM_filled, N, vtype='single')\n",
    " \n",
    "    return FM_filled"
   ]
  },
  {
   "cell_type": "markdown",
   "metadata": {},
   "source": [
    "#### Fill separately for each Xi and then recombine:"
   ]
  },
  {
   "cell_type": "code",
   "execution_count": 53,
   "metadata": {},
   "outputs": [
    {
     "name": "stderr",
     "output_type": "stream",
     "text": [
      "100%|██████████| 28696/28696 [00:08<00:00, 3208.34it/s]\n"
     ]
    },
    {
     "name": "stdout",
     "output_type": "stream",
     "text": [
      "airway\n",
      "bp\n",
      "bun\n",
      "creatinine\n",
      "fio2\n",
      "gcs\n",
      "haemoglobin\n",
      "hco3\n",
      "hr\n",
      "k\n",
      "na\n",
      "pain\n",
      "pco2\n",
      "po2\n",
      "resp\n",
      "spo2\n",
      "temp\n"
     ]
    },
    {
     "ename": "AttributeError",
     "evalue": "'DataFrame' object has no attribute 'filter_by'",
     "output_type": "error",
     "traceback": [
      "\u001b[0;31m---------------------------------------------------------------------------\u001b[0m",
      "\u001b[0;31mAttributeError\u001b[0m                            Traceback (most recent call last)",
      "Input \u001b[0;32mIn [53]\u001b[0m, in \u001b[0;36m<cell line: 9>\u001b[0;34m()\u001b[0m\n\u001b[1;32m      7\u001b[0m FM_negative_filled \u001b[38;5;241m=\u001b[39m _temp_FM_filled\u001b[38;5;241m.\u001b[39mcopy()\n\u001b[1;32m      9\u001b[0m \u001b[38;5;28;01mfor\u001b[39;00m Xi \u001b[38;5;129;01min\u001b[39;00m Xi_range[\u001b[38;5;241m1\u001b[39m:]:\n\u001b[1;32m     10\u001b[0m     \n\u001b[1;32m     11\u001b[0m     \u001b[38;5;66;03m## filter feature matrix to only contain instances from Xi sample\u001b[39;00m\n\u001b[0;32m---> 12\u001b[0m     _temp_FM_filled \u001b[38;5;241m=\u001b[39m \u001b[43m_FM_negative_filled\u001b[49m\u001b[38;5;241;43m.\u001b[39;49m\u001b[43mfilter_by\u001b[49m(column_name\u001b[38;5;241m=\u001b[39m\u001b[38;5;124m'\u001b[39m\u001b[38;5;124mICUSTAY_ID\u001b[39m\u001b[38;5;124m'\u001b[39m, values\u001b[38;5;241m=\u001b[39mid_mapping[id_mapping[\u001b[38;5;124m'\u001b[39m\u001b[38;5;124mXi\u001b[39m\u001b[38;5;124m'\u001b[39m]\u001b[38;5;241m==\u001b[39m\u001b[38;5;28mfloat\u001b[39m(Xi)][\u001b[38;5;124m'\u001b[39m\u001b[38;5;124mnew_ID\u001b[39m\u001b[38;5;124m'\u001b[39m])\n\u001b[1;32m     13\u001b[0m     \u001b[38;5;66;03m## fill with appropriate final values:\u001b[39;00m\n\u001b[1;32m     14\u001b[0m     new_icustays \u001b[38;5;241m=\u001b[39m id_mapping[id_mapping[\u001b[38;5;124m'\u001b[39m\u001b[38;5;124mXi\u001b[39m\u001b[38;5;124m'\u001b[39m]\u001b[38;5;241m==\u001b[39m\u001b[38;5;28mfloat\u001b[39m(Xi)]\n",
      "File \u001b[0;32m~/miniconda3/lib/python3.8/site-packages/pandas/core/generic.py:5583\u001b[0m, in \u001b[0;36mNDFrame.__getattr__\u001b[0;34m(self, name)\u001b[0m\n\u001b[1;32m   5576\u001b[0m \u001b[38;5;28;01mif\u001b[39;00m (\n\u001b[1;32m   5577\u001b[0m     name \u001b[38;5;129;01mnot\u001b[39;00m \u001b[38;5;129;01min\u001b[39;00m \u001b[38;5;28mself\u001b[39m\u001b[38;5;241m.\u001b[39m_internal_names_set\n\u001b[1;32m   5578\u001b[0m     \u001b[38;5;129;01mand\u001b[39;00m name \u001b[38;5;129;01mnot\u001b[39;00m \u001b[38;5;129;01min\u001b[39;00m \u001b[38;5;28mself\u001b[39m\u001b[38;5;241m.\u001b[39m_metadata\n\u001b[1;32m   5579\u001b[0m     \u001b[38;5;129;01mand\u001b[39;00m name \u001b[38;5;129;01mnot\u001b[39;00m \u001b[38;5;129;01min\u001b[39;00m \u001b[38;5;28mself\u001b[39m\u001b[38;5;241m.\u001b[39m_accessors\n\u001b[1;32m   5580\u001b[0m     \u001b[38;5;129;01mand\u001b[39;00m \u001b[38;5;28mself\u001b[39m\u001b[38;5;241m.\u001b[39m_info_axis\u001b[38;5;241m.\u001b[39m_can_hold_identifiers_and_holds_name(name)\n\u001b[1;32m   5581\u001b[0m ):\n\u001b[1;32m   5582\u001b[0m     \u001b[38;5;28;01mreturn\u001b[39;00m \u001b[38;5;28mself\u001b[39m[name]\n\u001b[0;32m-> 5583\u001b[0m \u001b[38;5;28;01mreturn\u001b[39;00m \u001b[38;5;28;43mobject\u001b[39;49m\u001b[38;5;241;43m.\u001b[39;49m\u001b[38;5;21;43m__getattribute__\u001b[39;49m\u001b[43m(\u001b[49m\u001b[38;5;28;43mself\u001b[39;49m\u001b[43m,\u001b[49m\u001b[43m \u001b[49m\u001b[43mname\u001b[49m\u001b[43m)\u001b[49m\n",
      "\u001b[0;31mAttributeError\u001b[0m: 'DataFrame' object has no attribute 'filter_by'"
     ]
    }
   ],
   "source": [
    "Xi = Xi_range[0]\n",
    "## filter feature matrix to only contain instances from Xi sample\n",
    "_temp_FM_filled = _FM_negative_filled[_FM_negative_filled['ICUSTAY_ID'].isin(id_mapping[id_mapping['Xi']==float(Xi)]['new_ID'])]\n",
    "## fill with appropriate final values:\n",
    "new_icustays = id_mapping[id_mapping['Xi']==float(Xi)]\n",
    "_temp_FM_filled = fill_with_final_values(FM_filled=_temp_FM_filled, Xi=Xi, new_icustays = new_icustays)\n",
    "FM_negative_filled = _temp_FM_filled.copy()\n",
    "\n",
    "for Xi in Xi_range[1:]:\n",
    "    \n",
    "    ## filter feature matrix to only contain instances from Xi sample\n",
    "    _temp_FM_filled = _FM_negative_filled.filter_by(column_name='ICUSTAY_ID', values=id_mapping[id_mapping['Xi']==float(Xi)]['new_ID'])\n",
    "    ## fill with appropriate final values:\n",
    "    new_icustays = id_mapping[id_mapping['Xi']==float(Xi)]\n",
    "    _temp_FM_filled = fill_with_final_values(FM_filled=_temp_FM_filled, Xi=Xi, new_icustays = new_icustays)\n",
    "    FM_negative_filled = FM_negative_filled.append(_temp_FM_filled) "
   ]
  },
  {
   "cell_type": "markdown",
   "metadata": {
    "collapsed": true
   },
   "source": [
    "#### How much missing data in the feature matrix for these extra NRFD samples:"
   ]
  },
  {
   "cell_type": "code",
   "execution_count": null,
   "metadata": {},
   "outputs": [
    {
     "name": "stdout",
     "output_type": "stream",
     "text": [
      "ICUSTAY_ID : 0.000\n",
      "temp_min : 0.036\n",
      "temp_max : 0.036\n",
      "spo2_min : 0.002\n",
      "spo2_max : 0.002\n",
      "resp_min : 0.002\n",
      "resp_max : 0.002\n",
      "hr_min : 0.000\n",
      "hr_max : 0.000\n",
      "gcs_min : 0.000\n",
      "gcs_max : 0.000\n",
      "bp_min : 0.001\n",
      "bp_max : 0.001\n",
      "fio2 : 0.203\n",
      "airway : 0.000\n",
      "pain : 0.116\n",
      "k : 0.004\n",
      "na : 0.004\n",
      "hco3 : 0.004\n",
      "bun : 0.004\n",
      "creatinine : 0.004\n",
      "pco2 : 0.348\n",
      "po2 : 0.348\n",
      "haemoglobin : 0.005\n"
     ]
    }
   ],
   "source": [
    "nrows = float(len(FM_negative_filled))\n",
    "for col in FM_negative_filled.columns:\n",
    "        print( '%s : %.3f' %(col, sum(FM_negative_filled[col].isna())/nrows))"
   ]
  },
  {
   "cell_type": "code",
   "execution_count": 60,
   "metadata": {},
   "outputs": [],
   "source": [
    "missing_data_summary['mimic_negex_36hr'] = missing_data_summary.apply(lambda row: sum(FM_negative_filled[row['variable']].isna())/nrows, axis=1 ) "
   ]
  },
  {
   "cell_type": "code",
   "execution_count": 61,
   "metadata": {},
   "outputs": [],
   "source": [
    "all_data = pd.read_pickle(DATA_PATH)\n",
    "summary = all_data.groupby(by=['C.ICUSTAY_ID'], as_index=False).aggregate(\n",
    "                                                        {'outcome':'min',\n",
    "                                                         'cohort':'min',\n",
    "                                                         'readmit':'min',\n",
    "                                                         'in_h_death':'min',\n",
    "                                                         'in_icu_death':'min',\n",
    "                                                         'II.LOS':'min',\n",
    "                                                         'II.OUTTIME':'min',\n",
    "                                                         'II.INTIME':'min',\n",
    "                                                         'RFD':'min'\n",
    "                                                        })\n",
    "\n",
    "summary = summary.rename(columns={'C.ICUSTAY_ID':'ICUSTAY_ID'})\n",
    "cohort_info = id_mapping.merge(how='inner', on='ICUSTAY_ID', right=summary)\n",
    "cohort_info = cohort_info[['new_ID', 'cohort']]\n",
    "cohort_info = cohort_info.rename(columns={'new_ID':'ICUSTAY_ID'})\n",
    "\n",
    "FM_negative_filled = FM_negative_filled.merge(how='inner', on='ICUSTAY_ID', right=cohort_info)\n",
    "FM_negative_filled['outcome'] = np.zeros(len(FM_negative_filled), dtype=int)"
   ]
  },
  {
   "cell_type": "markdown",
   "metadata": {},
   "source": [
    "#### We finally join the extra negative instances to the original feature matrix: "
   ]
  },
  {
   "cell_type": "code",
   "execution_count": 70,
   "metadata": {},
   "outputs": [],
   "source": [
    "FM_filled2 = FM_filled2.append(FM_negative_filled)"
   ]
  },
  {
   "cell_type": "markdown",
   "metadata": {},
   "source": [
    "#### Save the feature matrix with and without missing values included:"
   ]
  },
  {
   "cell_type": "code",
   "execution_count": 74,
   "metadata": {},
   "outputs": [],
   "source": [
    "if SAVE_FLAG:\n",
    "        FM_filled2.to_pickle('Feature_Matrix_MIMIC_with_missing_values.pickle')\n",
    "        FM_filled_cc = FM_filled2.dropna(how='any')\n",
    "        FM_filled_cc.to_pickle('Feature_Matrix_MIMIC_complete_case.pickle')"
   ]
  },
  {
   "cell_type": "markdown",
   "metadata": {},
   "source": [
    "#### Produce summary of missing values as recorded throughout this script:"
   ]
  },
  {
   "cell_type": "code",
   "execution_count": 64,
   "metadata": {},
   "outputs": [],
   "source": [
    "order = pd.DataFrame()\n",
    "order['variable'] =['hr_max', 'hr_min','spo2_max',\n",
    "                'spo2_min','airway','resp_max',\n",
    "                'resp_min','bp_min','bp_max',\n",
    "                'temp_min','temp_max','gcs_max',\n",
    "                'gcs_min','pain','hco3',\n",
    "                'pco2','po2','fio2',\n",
    "                'haemoglobin','k','bun',\n",
    "                'creatinine','na']\n",
    "\n",
    "order['num'] = range(len(order))"
   ]
  },
  {
   "cell_type": "code",
   "execution_count": 65,
   "metadata": {},
   "outputs": [],
   "source": [
    "missing_data_summary = missing_data_summary.merge(how='inner', on='variable', right=order)\n",
    "missing_data_summary = missing_data_summary.sort_values('num')\n",
    "missing_data_summary = missing_data_summary.drop(columns='num')"
   ]
  },
  {
   "cell_type": "code",
   "execution_count": 67,
   "metadata": {},
   "outputs": [
    {
     "data": {
      "text/html": [
       "<div>\n",
       "<style scoped>\n",
       "    .dataframe tbody tr th:only-of-type {\n",
       "        vertical-align: middle;\n",
       "    }\n",
       "\n",
       "    .dataframe tbody tr th {\n",
       "        vertical-align: top;\n",
       "    }\n",
       "\n",
       "    .dataframe thead th {\n",
       "        text-align: right;\n",
       "    }\n",
       "</style>\n",
       "<table border=\"1\" class=\"dataframe\">\n",
       "  <thead>\n",
       "    <tr style=\"text-align: right;\">\n",
       "      <th></th>\n",
       "      <th>variable</th>\n",
       "      <th>mimic_4hr</th>\n",
       "      <th>mimic_36hr</th>\n",
       "      <th>mimic_negex_4hour</th>\n",
       "      <th>mimic_negex_36hr</th>\n",
       "    </tr>\n",
       "  </thead>\n",
       "  <tbody>\n",
       "    <tr>\n",
       "      <th>1</th>\n",
       "      <td>hr_max</td>\n",
       "      <td>0.001686</td>\n",
       "      <td>0.000355</td>\n",
       "      <td>0.001940</td>\n",
       "      <td>0.000485</td>\n",
       "    </tr>\n",
       "    <tr>\n",
       "      <th>0</th>\n",
       "      <td>hr_min</td>\n",
       "      <td>0.001686</td>\n",
       "      <td>0.000355</td>\n",
       "      <td>0.001940</td>\n",
       "      <td>0.000485</td>\n",
       "    </tr>\n",
       "    <tr>\n",
       "      <th>6</th>\n",
       "      <td>spo2_max</td>\n",
       "      <td>0.011270</td>\n",
       "      <td>0.000710</td>\n",
       "      <td>0.004204</td>\n",
       "      <td>0.001617</td>\n",
       "    </tr>\n",
       "    <tr>\n",
       "      <th>7</th>\n",
       "      <td>spo2_min</td>\n",
       "      <td>0.011270</td>\n",
       "      <td>0.000710</td>\n",
       "      <td>0.004204</td>\n",
       "      <td>0.001617</td>\n",
       "    </tr>\n",
       "    <tr>\n",
       "      <th>20</th>\n",
       "      <td>airway</td>\n",
       "      <td>0.984914</td>\n",
       "      <td>0.000000</td>\n",
       "      <td>0.461762</td>\n",
       "      <td>0.000000</td>\n",
       "    </tr>\n",
       "    <tr>\n",
       "      <th>3</th>\n",
       "      <td>resp_max</td>\n",
       "      <td>0.006034</td>\n",
       "      <td>0.001065</td>\n",
       "      <td>0.004689</td>\n",
       "      <td>0.001778</td>\n",
       "    </tr>\n",
       "    <tr>\n",
       "      <th>2</th>\n",
       "      <td>resp_min</td>\n",
       "      <td>0.006034</td>\n",
       "      <td>0.001065</td>\n",
       "      <td>0.004689</td>\n",
       "      <td>0.001778</td>\n",
       "    </tr>\n",
       "    <tr>\n",
       "      <th>4</th>\n",
       "      <td>bp_min</td>\n",
       "      <td>0.006655</td>\n",
       "      <td>0.000444</td>\n",
       "      <td>0.003072</td>\n",
       "      <td>0.001293</td>\n",
       "    </tr>\n",
       "    <tr>\n",
       "      <th>5</th>\n",
       "      <td>bp_max</td>\n",
       "      <td>0.006655</td>\n",
       "      <td>0.000444</td>\n",
       "      <td>0.003072</td>\n",
       "      <td>0.001293</td>\n",
       "    </tr>\n",
       "    <tr>\n",
       "      <th>9</th>\n",
       "      <td>temp_min</td>\n",
       "      <td>0.074186</td>\n",
       "      <td>0.049783</td>\n",
       "      <td>0.049636</td>\n",
       "      <td>0.036055</td>\n",
       "    </tr>\n",
       "    <tr>\n",
       "      <th>8</th>\n",
       "      <td>temp_max</td>\n",
       "      <td>0.074186</td>\n",
       "      <td>0.049783</td>\n",
       "      <td>0.049636</td>\n",
       "      <td>0.036055</td>\n",
       "    </tr>\n",
       "    <tr>\n",
       "      <th>11</th>\n",
       "      <td>gcs_max</td>\n",
       "      <td>0.096548</td>\n",
       "      <td>0.000799</td>\n",
       "      <td>0.065966</td>\n",
       "      <td>0.000162</td>\n",
       "    </tr>\n",
       "    <tr>\n",
       "      <th>10</th>\n",
       "      <td>gcs_min</td>\n",
       "      <td>0.096548</td>\n",
       "      <td>0.000799</td>\n",
       "      <td>0.065966</td>\n",
       "      <td>0.000162</td>\n",
       "    </tr>\n",
       "    <tr>\n",
       "      <th>12</th>\n",
       "      <td>pain</td>\n",
       "      <td>0.461177</td>\n",
       "      <td>0.182891</td>\n",
       "      <td>0.461762</td>\n",
       "      <td>0.115764</td>\n",
       "    </tr>\n",
       "    <tr>\n",
       "      <th>17</th>\n",
       "      <td>hco3</td>\n",
       "      <td>0.884551</td>\n",
       "      <td>0.018546</td>\n",
       "      <td>0.877607</td>\n",
       "      <td>0.004042</td>\n",
       "    </tr>\n",
       "    <tr>\n",
       "      <th>21</th>\n",
       "      <td>pco2</td>\n",
       "      <td>0.987665</td>\n",
       "      <td>0.781613</td>\n",
       "      <td>0.805497</td>\n",
       "      <td>0.348262</td>\n",
       "    </tr>\n",
       "    <tr>\n",
       "      <th>22</th>\n",
       "      <td>po2</td>\n",
       "      <td>0.987665</td>\n",
       "      <td>0.781613</td>\n",
       "      <td>0.805497</td>\n",
       "      <td>0.348262</td>\n",
       "    </tr>\n",
       "    <tr>\n",
       "      <th>19</th>\n",
       "      <td>fio2</td>\n",
       "      <td>0.932115</td>\n",
       "      <td>0.685509</td>\n",
       "      <td>0.331932</td>\n",
       "      <td>0.202910</td>\n",
       "    </tr>\n",
       "    <tr>\n",
       "      <th>18</th>\n",
       "      <td>haemoglobin</td>\n",
       "      <td>0.894312</td>\n",
       "      <td>0.024226</td>\n",
       "      <td>0.909458</td>\n",
       "      <td>0.005335</td>\n",
       "    </tr>\n",
       "    <tr>\n",
       "      <th>13</th>\n",
       "      <td>k</td>\n",
       "      <td>0.874612</td>\n",
       "      <td>0.016860</td>\n",
       "      <td>0.841229</td>\n",
       "      <td>0.003880</td>\n",
       "    </tr>\n",
       "    <tr>\n",
       "      <th>15</th>\n",
       "      <td>bun</td>\n",
       "      <td>0.883752</td>\n",
       "      <td>0.018813</td>\n",
       "      <td>0.886823</td>\n",
       "      <td>0.004042</td>\n",
       "    </tr>\n",
       "    <tr>\n",
       "      <th>16</th>\n",
       "      <td>creatinine</td>\n",
       "      <td>0.884018</td>\n",
       "      <td>0.018901</td>\n",
       "      <td>0.886338</td>\n",
       "      <td>0.004042</td>\n",
       "    </tr>\n",
       "    <tr>\n",
       "      <th>14</th>\n",
       "      <td>na</td>\n",
       "      <td>0.874701</td>\n",
       "      <td>0.017215</td>\n",
       "      <td>0.854325</td>\n",
       "      <td>0.003880</td>\n",
       "    </tr>\n",
       "  </tbody>\n",
       "</table>\n",
       "</div>"
      ],
      "text/plain": [
       "       variable  mimic_4hr  mimic_36hr  mimic_negex_4hour  mimic_negex_36hr\n",
       "1        hr_max   0.001686    0.000355           0.001940          0.000485\n",
       "0        hr_min   0.001686    0.000355           0.001940          0.000485\n",
       "6      spo2_max   0.011270    0.000710           0.004204          0.001617\n",
       "7      spo2_min   0.011270    0.000710           0.004204          0.001617\n",
       "20       airway   0.984914    0.000000           0.461762          0.000000\n",
       "3      resp_max   0.006034    0.001065           0.004689          0.001778\n",
       "2      resp_min   0.006034    0.001065           0.004689          0.001778\n",
       "4        bp_min   0.006655    0.000444           0.003072          0.001293\n",
       "5        bp_max   0.006655    0.000444           0.003072          0.001293\n",
       "9      temp_min   0.074186    0.049783           0.049636          0.036055\n",
       "8      temp_max   0.074186    0.049783           0.049636          0.036055\n",
       "11      gcs_max   0.096548    0.000799           0.065966          0.000162\n",
       "10      gcs_min   0.096548    0.000799           0.065966          0.000162\n",
       "12         pain   0.461177    0.182891           0.461762          0.115764\n",
       "17         hco3   0.884551    0.018546           0.877607          0.004042\n",
       "21         pco2   0.987665    0.781613           0.805497          0.348262\n",
       "22          po2   0.987665    0.781613           0.805497          0.348262\n",
       "19         fio2   0.932115    0.685509           0.331932          0.202910\n",
       "18  haemoglobin   0.894312    0.024226           0.909458          0.005335\n",
       "13            k   0.874612    0.016860           0.841229          0.003880\n",
       "15          bun   0.883752    0.018813           0.886823          0.004042\n",
       "16   creatinine   0.884018    0.018901           0.886338          0.004042\n",
       "14           na   0.874701    0.017215           0.854325          0.003880"
      ]
     },
     "execution_count": 67,
     "metadata": {},
     "output_type": "execute_result"
    }
   ],
   "source": [
    "missing_data_summary.to_csv('missing_data_summary_mimic.csv', header=True)\n",
    "missing_data_summary.head(len(missing_data_summary))"
   ]
  },
  {
   "cell_type": "code",
   "execution_count": 72,
   "metadata": {},
   "outputs": [],
   "source": [
    "FM_filled.to_csv('Feature_Matrix_MIMIC_with_missing_values.csv')"
   ]
  },
  {
   "cell_type": "code",
   "execution_count": 73,
   "metadata": {},
   "outputs": [],
   "source": [
    "FM_filled_cc.to_csv('Feature_Matrix_MIMIC_complete_case.csv')"
   ]
  },
  {
   "cell_type": "code",
   "execution_count": 77,
   "metadata": {},
   "outputs": [
    {
     "data": {
      "text/plain": [
       "(nan, 9640, 4513)"
      ]
     },
     "execution_count": 77,
     "metadata": {},
     "output_type": "execute_result"
    }
   ],
   "source": [
    "sum(FM_filled[\"outcome\"]), sum(FM_filled2[\"outcome\"]), len(FM_filled_cc)"
   ]
  },
  {
   "cell_type": "code",
   "execution_count": null,
   "metadata": {},
   "outputs": [],
   "source": []
  }
 ],
 "metadata": {
  "kernelspec": {
   "display_name": "Python 3",
   "language": "python",
   "name": "python3"
  },
  "language_info": {
   "codemirror_mode": {
    "name": "ipython",
    "version": 3
   },
   "file_extension": ".py",
   "mimetype": "text/x-python",
   "name": "python",
   "nbconvert_exporter": "python",
   "pygments_lexer": "ipython3",
   "version": "3.8.11"
  }
 },
 "nbformat": 4,
 "nbformat_minor": 2
}
